{
 "cells": [
  {
   "cell_type": "markdown",
   "metadata": {},
   "source": [
    "Uses log spectrograms\n",
    "- No batchnorm\n",
    "- Weight decay"
   ]
  },
  {
   "cell_type": "code",
   "execution_count": 1,
   "metadata": {},
   "outputs": [],
   "source": [
    "import json\n",
    "import os\n",
    "import numpy as np\n",
    "import matplotlib.pyplot as plt\n",
    "import torch\n",
    "import torch.nn as nn\n",
    "import torch.optim as optim\n",
    "import torch.nn.functional as F\n",
    "\n",
    "from common import datasets as data\n",
    "from localmlp import layers as lyr\n",
    "from common import constants as const\n",
    "from common import tuningcurves as tc\n",
    "\n",
    "\n",
    "import ipywidgets as widgets\n",
    "from ipywidgets import interact, interact_manual"
   ]
  },
  {
   "cell_type": "markdown",
   "metadata": {},
   "source": [
    "# Data"
   ]
  },
  {
   "cell_type": "code",
   "execution_count": 26,
   "metadata": {},
   "outputs": [],
   "source": [
    "dataset='cochleagram'\n",
    "data_directory='/data3/hamza/datasets/noisy-speech/spectrograms3/'\n",
    "# directory='speech'\n",
    "batch_size=20\n",
    "shuffle=True"
   ]
  },
  {
   "cell_type": "code",
   "execution_count": 27,
   "metadata": {},
   "outputs": [],
   "source": [
    "data_iterator = data.DataIterator(dataset=dataset,directory=data_directory,batch_size=batch_size,shuffle=shuffle)"
   ]
  },
  {
   "cell_type": "markdown",
   "metadata": {},
   "source": [
    "# Save folder"
   ]
  },
  {
   "source": [
    "# Figures save folder\n",
    "fig_save_folder = '/data3/hamza/projects/sparse_music/figs/25b'\n",
    "if not os.path.exists(fig_save_folder):\n",
    "    os.mkdir(fig_save_folder)\n",
    "    print(f'created folder {fig_save_folder}')\n",
    "else:\n",
    "    print(f'folder already exists: {fig_save_folder}')\n",
    "\n"
   ],
   "cell_type": "code",
   "metadata": {},
   "execution_count": 30,
   "outputs": [
    {
     "output_type": "stream",
     "name": "stdout",
     "text": [
      "folder already exists: /data3/hamza/projects/sparse_music/figs/25b\n"
     ]
    }
   ]
  },
  {
   "source": [
    "# Model save folder\n",
    "model_directory = \"/home/hamza/data3/projects/sparse_music/experiments/25b\"\n",
    "if not os.path.exists(model_directory):\n",
    "    os.mkdir(model_directory)\n",
    "    print(f'created folder {model_directory}')\n",
    "else:\n",
    "    print(f'folder already exists: {model_directory}')"
   ],
   "cell_type": "code",
   "metadata": {},
   "execution_count": 31,
   "outputs": [
    {
     "output_type": "stream",
     "name": "stdout",
     "text": [
      "folder already exists: /home/hamza/data3/projects/sparse_music/experiments/25b\n"
     ]
    }
   ]
  },
  {
   "cell_type": "markdown",
   "metadata": {},
   "source": [
    "## Auto-encoder"
   ]
  },
  {
   "source": [
    "## Load models?\n",
    "Uncomment following and skip model definition and training"
   ],
   "cell_type": "markdown",
   "metadata": {}
  },
  {
   "cell_type": "code",
   "execution_count": 33,
   "metadata": {},
   "outputs": [],
   "source": [
    "encoder = torch.load(os.path.join(model_directory,\"encoder.pt\"))\n",
    "decoder = torch.load(os.path.join(model_directory,\"decoder.pt\"))\n"
   ]
  },
  {
   "cell_type": "code",
   "execution_count": 9,
   "metadata": {},
   "outputs": [],
   "source": [
    "class Encoder(nn.Module):\n",
    "    def __init__(self,channels,kernel_sizes=[(31,1)],strides = [(3,1)]):\n",
    "        super(Encoder,self).__init__()\n",
    "        self.layers = nn.ModuleList()\n",
    "        for i in range(len(kernel_sizes)):\n",
    "            self.layers.append(nn.Conv2d(in_channels=channels[i],out_channels=channels[i+1],kernel_size=kernel_sizes[i],stride = strides[i]))\n",
    "        self.channels = channels\n",
    "        self.kernel_sizes = kernel_sizes\n",
    "        self.strides = strides\n",
    "        \n",
    "            \n",
    "    def forward(self,x):\n",
    "        out = x\n",
    "        for i in range(len(self.layers)):\n",
    "            out = self.layers[i](out)\n",
    "        return out\n",
    "    \n",
    "class Decoder(nn.Module):\n",
    "    def __init__(self,channels,kernel_sizes=[(31,1)],strides = [(3,1)]):\n",
    "        super(Decoder,self).__init__()\n",
    "        self.layers = nn.ModuleList()\n",
    "        for i in range(len(kernel_sizes)):\n",
    "            self.layers.append(nn.ConvTranspose2d(in_channels=channels[i],out_channels=channels[i+1],kernel_size=kernel_sizes[i],stride = strides[i]))\n",
    "        self.channels = channels\n",
    "        self.kernel_sizes = kernel_sizes\n",
    "        self.strides = strides\n",
    "        \n",
    "            \n",
    "    def forward(self,x):\n",
    "        out = x\n",
    "        for i in range(len(self.layers)):\n",
    "            out = self.layers[i](out)\n",
    "        return out"
   ]
  },
  {
   "cell_type": "code",
   "execution_count": 10,
   "metadata": {},
   "outputs": [],
   "source": [
    "channels = [1,64,64,64,64]\n",
    "\n",
    "# 24 coponents per octave contain 2 octaves in filter: 48\n",
    "kernel_sizes = [(18,1),(18,1),(18,1),(18,1)]\n",
    "strides = [(2,1),(2,1),(1,1),(1,1)]\n",
    "\n",
    "device = torch.device('cuda:7')\n",
    "\n",
    "encoder = Encoder(channels = channels,kernel_sizes = kernel_sizes,strides=strides).to(device)\n",
    "decoder = Decoder(channels= channels[::-1],kernel_sizes = kernel_sizes[::-1],strides=strides[::-1]).to(device)"
   ]
  },
  {
   "cell_type": "code",
   "execution_count": 21,
   "metadata": {},
   "outputs": [],
   "source": [
    "def add_noise(x,proportion=0.25):\n",
    "    y = x.clone()\n",
    "    y[...,torch.rand(x.shape[-2:]) < proportion] = 0\n",
    "    return y"
   ]
  },
  {
   "cell_type": "markdown",
   "metadata": {},
   "source": [
    "## Loss definition"
   ]
  },
  {
   "cell_type": "code",
   "execution_count": 11,
   "metadata": {},
   "outputs": [],
   "source": [
    "bce_loss = nn.BCELoss(reduction = 'none')"
   ]
  },
  {
   "source": [
    "### Weighted bce version, weights active units higher than silent units of the cochleagram"
   ],
   "cell_type": "markdown",
   "metadata": {}
  },
  {
   "cell_type": "code",
   "execution_count": 14,
   "metadata": {},
   "outputs": [],
   "source": [
    "def w_bce_loss(out,target, threshold = 0.3, weights = [1,40]):\n",
    "    n0 = (target<=0.3).sum()\n",
    "    n1 = (target>0.3).sum()\n",
    "    l0 = weights[0] * bce_loss(out[target<=0.3],target[target<=0.3]).sum()\n",
    "    l1 = weights[1] * bce_loss(out[target>0.3],target[target>0.3]).sum()\n",
    "    return (l0 + l1) / (n0*weights[0] + n1*weights[1])"
   ]
  },
  {
   "cell_type": "code",
   "execution_count": 15,
   "metadata": {},
   "outputs": [],
   "source": [
    "def L1loss(x):\n",
    "    return torch.mean(torch.abs(x))"
   ]
  },
  {
   "cell_type": "code",
   "execution_count": 16,
   "metadata": {},
   "outputs": [],
   "source": [
    "def sparsity_loss(activations,level = 0.05):\n",
    "#     return torch.mean(torch.abs(torch.mean(torch.abs(activations),axis=1) - 0.05))\n",
    "    rho_hat = torch.mean(torch.abs(activations),axis = 0)\n",
    "    gap = (rho_hat - level)**2\n",
    "    loss = torch.mean(gap)\n",
    "    return loss"
   ]
  },
  {
   "cell_type": "markdown",
   "metadata": {},
   "source": [
    "## Optimizer"
   ]
  },
  {
   "cell_type": "code",
   "execution_count": 17,
   "metadata": {},
   "outputs": [],
   "source": [
    "params = list(encoder.parameters()) + list(decoder.parameters())\n",
    "optimizer = optim.Adam(params, lr=0.001,weight_decay = 1e-5)"
   ]
  },
  {
   "cell_type": "markdown",
   "metadata": {},
   "source": [
    "# Training"
   ]
  },
  {
   "cell_type": "code",
   "execution_count": 18,
   "metadata": {},
   "outputs": [],
   "source": [
    "r_losses = []\n",
    "l1_losses = []\n",
    "losses = []"
   ]
  },
  {
   "cell_type": "code",
   "execution_count": 22,
   "metadata": {
    "scrolled": true
   },
   "outputs": [
    {
     "output_type": "stream",
     "name": "stdout",
     "text": [
      "epoch 0 iteration 0: R Loss = 0.7144162058830261\n",
      "epoch 0 iteration 10: R Loss = 0.49525445157831366\n",
      "epoch 0 iteration 20: R Loss = 0.4045914865675427\n",
      "epoch 0 iteration 30: R Loss = 0.36169120284818834\n",
      "epoch 0 iteration 40: R Loss = 0.3358677098663842\n",
      "epoch 0 iteration 50: R Loss = 0.3108880868554115\n",
      "epoch 0 iteration 60: R Loss = 0.26331333369016646\n",
      "epoch 0 iteration 70: R Loss = 0.2490394365787506\n",
      "epoch 0 iteration 80: R Loss = 0.23934098452329636\n",
      "epoch 0 iteration 90: R Loss = 0.23261797457933425\n",
      "epoch 0 iteration 100: R Loss = 0.2266201514005661\n",
      "epoch 0 iteration 110: R Loss = 0.22309069365262985\n",
      "epoch 0 iteration 120: R Loss = 0.22040574193000795\n",
      "epoch 0 iteration 130: R Loss = 0.21951796740293503\n",
      "epoch 0 iteration 140: R Loss = 0.2169538789987564\n",
      "epoch 0 iteration 150: R Loss = 0.21738939076662064\n",
      "epoch 0 iteration 160: R Loss = 0.2168851089477539\n",
      "epoch 0 iteration 170: R Loss = 0.21533820539712906\n",
      "epoch 0 iteration 180: R Loss = 0.21274228751659394\n",
      "epoch 0 iteration 190: R Loss = 0.2125478795170784\n",
      "epoch 0 iteration 200: R Loss = 0.20918788880109787\n"
     ]
    },
    {
     "output_type": "error",
     "ename": "KeyboardInterrupt",
     "evalue": "",
     "traceback": [
      "\u001b[0;31m---------------------------------------------------------------------------\u001b[0m",
      "\u001b[0;31mKeyboardInterrupt\u001b[0m                         Traceback (most recent call last)",
      "\u001b[0;32m<ipython-input-22-fcac438df478>\u001b[0m in \u001b[0;36m<module>\u001b[0;34m\u001b[0m\n\u001b[1;32m     43\u001b[0m         \u001b[0mr_loss\u001b[0m\u001b[0;34m.\u001b[0m\u001b[0mbackward\u001b[0m\u001b[0;34m(\u001b[0m\u001b[0;34m)\u001b[0m\u001b[0;34m\u001b[0m\u001b[0;34m\u001b[0m\u001b[0m\n\u001b[1;32m     44\u001b[0m         \u001b[0moptimizer\u001b[0m\u001b[0;34m.\u001b[0m\u001b[0mstep\u001b[0m\u001b[0;34m(\u001b[0m\u001b[0;34m)\u001b[0m\u001b[0;34m\u001b[0m\u001b[0;34m\u001b[0m\u001b[0m\n\u001b[0;32m---> 45\u001b[0;31m         \u001b[0mr_losses\u001b[0m\u001b[0;34m.\u001b[0m\u001b[0mappend\u001b[0m\u001b[0;34m(\u001b[0m\u001b[0mr_loss\u001b[0m\u001b[0;34m.\u001b[0m\u001b[0mitem\u001b[0m\u001b[0;34m(\u001b[0m\u001b[0;34m)\u001b[0m\u001b[0;34m)\u001b[0m\u001b[0;34m\u001b[0m\u001b[0;34m\u001b[0m\u001b[0m\n\u001b[0m\u001b[1;32m     46\u001b[0m         \u001b[0;32mif\u001b[0m \u001b[0mi\u001b[0m \u001b[0;34m%\u001b[0m \u001b[0;36m10\u001b[0m \u001b[0;34m==\u001b[0m\u001b[0;36m0\u001b[0m\u001b[0;34m:\u001b[0m\u001b[0;34m\u001b[0m\u001b[0;34m\u001b[0m\u001b[0m\n\u001b[1;32m     47\u001b[0m             \u001b[0mprint\u001b[0m\u001b[0;34m(\u001b[0m\u001b[0;34mf\"epoch {epoch} iteration {i}: R Loss = {np.mean(r_losses[-50:])}\"\u001b[0m\u001b[0;34m)\u001b[0m\u001b[0;34m\u001b[0m\u001b[0;34m\u001b[0m\u001b[0m\n",
      "\u001b[0;31mKeyboardInterrupt\u001b[0m: "
     ]
    }
   ],
   "source": [
    "encoder.train()\n",
    "decoder.train()\n",
    "for epoch in range(10):\n",
    "    for i, elem in enumerate(data_iterator.loader):\n",
    "\n",
    "        optimizer.zero_grad()\n",
    "        x = elem.type(torch.FloatTensor).unsqueeze(1).to(device)\n",
    "        M = x.max(axis=-1).values.max(axis=-1).values[:,None,None]\n",
    "        m = x.min(axis=-1).values.min(axis=-1).values[:,None,None]\n",
    "        x = (x-m)/(M-m)\n",
    "        x = x[...,:232,:]\n",
    "        \n",
    "        x_hat = add_noise(x,proportion=0.50)\n",
    "        \n",
    "        code = encoder.layers[0](x_hat)     \n",
    "    #     code = torch.relu(code)\n",
    "\n",
    "        code = encoder.layers[1](code)\n",
    "        code = torch.relu(code)\n",
    "\n",
    "        code = encoder.layers[2](code)\n",
    "    #     code = torch.relu(code)\n",
    "\n",
    "        code = encoder.layers[3](code)\n",
    "        code = torch.relu(code)\n",
    "\n",
    "\n",
    "\n",
    "        out = decoder.layers[0](code)\n",
    "        out = torch.relu(out)\n",
    "\n",
    "        out = decoder.layers[1](out)\n",
    "        out = torch.relu(out)\n",
    "\n",
    "        out = decoder.layers[2](out)\n",
    "        out = torch.relu(out)\n",
    "\n",
    "        out = decoder.layers[3](out)\n",
    "        out = torch.sigmoid(out)\n",
    "\n",
    "        \n",
    "        r_loss = w_bce_loss(out,x,weights=[1,5])\n",
    "        r_loss.backward()\n",
    "        optimizer.step()\n",
    "        r_losses.append(r_loss.item())\n",
    "        if i % 10 ==0:\n",
    "            print(f\"epoch {epoch} iteration {i}: R Loss = {np.mean(r_losses[-50:])}\")"
   ]
  },
  {
   "cell_type": "code",
   "execution_count": 36,
   "metadata": {},
   "outputs": [],
   "source": [
    "encoder = encoder.eval()\n",
    "decoder = decoder.eval()\n",
    "with torch.no_grad():\n",
    "    code = encoder.layers[0](x_hat)     \n",
    "#     code = torch.relu(code)\n",
    "\n",
    "    code = encoder.layers[1](code)\n",
    "    code = torch.relu(code)\n",
    "\n",
    "    code = encoder.layers[2](code)\n",
    "#     code = torch.relu(code)\n",
    "\n",
    "    code = encoder.layers[3](code)\n",
    "    code = torch.relu(code)\n",
    "\n",
    "\n",
    "\n",
    "    out = decoder.layers[0](code)\n",
    "    out = torch.relu(out)\n",
    "\n",
    "    out = decoder.layers[1](out)\n",
    "    out = torch.relu(out)\n",
    "\n",
    "    out = decoder.layers[2](out)\n",
    "    out = torch.relu(out)\n",
    "\n",
    "    out = decoder.layers[3](out)\n",
    "    out = torch.sigmoid(out)"
   ]
  },
  {
   "source": [
    "## Careful! Do not run this unless you are sure you are not overwriting a good model."
   ],
   "cell_type": "markdown",
   "metadata": {}
  },
  {
   "cell_type": "code",
   "execution_count": 34,
   "metadata": {},
   "outputs": [],
   "source": [
    "# torch.save(encoder,os.path.join(model_directory,\"encoder.pt\"))\n",
    "# torch.save(decoder,os.path.join(model_directory,\"decoder.pt\"))\n"
   ]
  },
  {
   "cell_type": "code",
   "execution_count": 37,
   "metadata": {},
   "outputs": [
    {
     "output_type": "display_data",
     "data": {
      "text/plain": "interactive(children=(IntSlider(value=9, description='i', max=19), Output()), _dom_classes=('widget-interact',…",
      "application/vnd.jupyter.widget-view+json": {
       "version_major": 2,
       "version_minor": 0,
       "model_id": "d3ffbfa3f0c941d5955d3d2afd11cd85"
      }
     },
     "metadata": {}
    }
   ],
   "source": [
    "@interact\n",
    "def viz_in_out(i=(0,x.shape[0]-1,1)):\n",
    "    \n",
    "    f, axarr = plt.subplots(1,2,figsize=(10,12))\n",
    "    axarr[0].imshow(x_hat[i][0].cpu().numpy(),vmax=1,cmap='gray')\n",
    "    axarr[0].set_title('Original')\n",
    "    axarr[1].imshow(out[i][0].pow(1).cpu().numpy(),vmax=1,cmap='gray')# / out[i].cpu().numpy().max())\n",
    "    axarr[1].set_title('recovered')\n",
    "#     axarr[2].colorbar()\n",
    "    plt.savefig(os.path.join(fig_save_folder,f'0-noise-added{i}.pdf'))\n",
    "#     axarr[0].imshow(x_hat[i][0].cpu().numpy())\n",
    "#     axarr[1].imshow(out[i][0].cpu().numpy())# / out[i].cpu().numpy().max())\n",
    "    print(x[i].max())\n",
    "    print(out[i].max())"
   ]
  },
  {
   "cell_type": "markdown",
   "metadata": {},
   "source": [
    "# Sparsity"
   ]
  },
  {
   "cell_type": "code",
   "execution_count": 31,
   "metadata": {},
   "outputs": [],
   "source": [
    "responses = [[] for i in range(4)]\n",
    "\n",
    "encoder = encoder.eval()\n",
    "decoder = decoder.eval()\n",
    "with torch.no_grad():\n",
    "    \n",
    "    for i, elem in enumerate(data_iterator.loader):\n",
    "\n",
    "        x = elem.type(torch.FloatTensor).unsqueeze(1).to(device)\n",
    "        M = x.max(axis=-1).values.max(axis=-1).values[:,None,None]\n",
    "        m = x.min(axis=-1).values.min(axis=-1).values[:,None,None]\n",
    "        x = (x-m)/(M-m)\n",
    "        x = x[...,:232,:100]\n",
    "\n",
    "        code = encoder.layers[0](x)     \n",
    "    #     code = torch.relu(code)\n",
    "        responses[0].append(code.cpu().numpy())\n",
    "\n",
    "        code = encoder.layers[1](code)\n",
    "        code = torch.relu(code)\n",
    "        responses[1].append(code.cpu().numpy())\n",
    "\n",
    "\n",
    "        code = encoder.layers[2](code)\n",
    "    #     code = torch.relu(code)\n",
    "        responses[2].append(code.cpu().numpy())\n",
    "\n",
    "\n",
    "        code = encoder.layers[3](code)\n",
    "        code = torch.relu(code)\n",
    "        responses[3].append(code.cpu().numpy())\n",
    "        if i == 100:\n",
    "            break\n",
    "\n",
    "\n",
    "#         out = decoder.layers[0](code)\n",
    "#         out = torch.relu(out)\n",
    "\n",
    "#         out = decoder.layers[1](out)\n",
    "#         out = torch.relu(out)\n",
    "\n",
    "#         out = decoder.layers[2](out)\n",
    "#         out = torch.relu(out)\n",
    "\n",
    "#         out = decoder.layers[3](out)\n",
    "#         out = torch.sigmoid(out)"
   ]
  },
  {
   "cell_type": "code",
   "execution_count": 32,
   "metadata": {},
   "outputs": [
    {
     "data": {
      "text/plain": [
       "101"
      ]
     },
     "execution_count": 32,
     "metadata": {},
     "output_type": "execute_result"
    }
   ],
   "source": [
    "len(responses[0])"
   ]
  },
  {
   "cell_type": "code",
   "execution_count": 25,
   "metadata": {},
   "outputs": [
    {
     "data": {
      "text/plain": [
       "torch.Size([20, 1, 232, 251])"
      ]
     },
     "execution_count": 25,
     "metadata": {},
     "output_type": "execute_result"
    }
   ],
   "source": [
    "x.shape"
   ]
  },
  {
   "cell_type": "code",
   "execution_count": 33,
   "metadata": {},
   "outputs": [],
   "source": [
    "responses = [np.concatenate(responses[i],axis=0) for i in range(4)]"
   ]
  },
  {
   "cell_type": "code",
   "execution_count": 34,
   "metadata": {},
   "outputs": [],
   "source": [
    "def gini(array):\n",
    "    \"\"\"Calculate the Gini coefficient of a numpy array.\"\"\"\n",
    "    # based on bottom eq: http://www.statsdirect.com/help/content/image/stat0206_wmf.gif\n",
    "    # from: http://www.statsdirect.com/help/default.htm#nonparametric_methods/gini.htm\n",
    "    array = array.flatten() #all values are treated equally, arrays must be 1d\n",
    "    if np.amin(array) < 0:\n",
    "        array -= np.amin(array) #values cannot be negative\n",
    "    array += 0.0000001 #values cannot be 0\n",
    "    array = np.sort(array) #values must be sorted\n",
    "    index = np.arange(1,array.shape[0]+1) #index per array element\n",
    "    n = array.shape[0]#number of array elements\n",
    "    return ((np.sum((2 * index - n  - 1) * array)) / (n * np.sum(array))) #Gini coefficient"
   ]
  },
  {
   "cell_type": "code",
   "execution_count": 38,
   "metadata": {},
   "outputs": [],
   "source": [
    "gini_per_layer = [gini(np.abs(responses[i][:50])) for i in range(4)]\n"
   ]
  },
  {
   "cell_type": "code",
   "execution_count": 59,
   "metadata": {},
   "outputs": [
    {
     "data": {
      "text/plain": [
       "Text(0, 0.5, 'Gini index')"
      ]
     },
     "execution_count": 59,
     "metadata": {},
     "output_type": "execute_result"
    },
    {
     "data": {
      "image/png": "[encoded data removed]",
      "text/plain": [
       "<Figure size 432x288 with 1 Axes>"
      ]
     },
     "metadata": {
      "needs_background": "light"
     },
     "output_type": "display_data"
    }
   ],
   "source": [
    "plt.plot(gini_per_layer)\n",
    "plt.xlabel('layer',fontsize =16)\n",
    "plt.xticks([0,1,2,3])\n",
    "plt.ylabel('Gini index',fontsize=16)"
   ]
  },
  {
   "cell_type": "code",
   "execution_count": 40,
   "metadata": {},
   "outputs": [
    {
     "data": {
      "text/plain": [
       "[0.40683582845717825,\n",
       " 0.92186596590286,\n",
       " 0.48964505551998483,\n",
       " 0.6179582345854318]"
      ]
     },
     "execution_count": 40,
     "metadata": {},
     "output_type": "execute_result"
    }
   ],
   "source": [
    "gini_per_layer"
   ]
  },
  {
   "cell_type": "code",
   "execution_count": 30,
   "metadata": {},
   "outputs": [
    {
     "ename": "AttributeError",
     "evalue": "'list' object has no attribute 'cpu'",
     "output_type": "error",
     "traceback": [
      "\u001b[0;31m---------------------------------------------------------------------------\u001b[0m",
      "\u001b[0;31mAttributeError\u001b[0m                            Traceback (most recent call last)",
      "\u001b[0;32m<ipython-input-30-48e30d3f3ff3>\u001b[0m in \u001b[0;36m<module>\u001b[0;34m\u001b[0m\n\u001b[0;32m----> 1\u001b[0;31m \u001b[0mnp\u001b[0m\u001b[0;34m.\u001b[0m\u001b[0mconcatenate\u001b[0m\u001b[0;34m(\u001b[0m\u001b[0mresponses\u001b[0m\u001b[0;34m[\u001b[0m\u001b[0;36m0\u001b[0m\u001b[0;34m]\u001b[0m\u001b[0;34m.\u001b[0m\u001b[0mcpu\u001b[0m\u001b[0;34m(\u001b[0m\u001b[0;34m)\u001b[0m\u001b[0;34m.\u001b[0m\u001b[0mnumpy\u001b[0m\u001b[0;34m(\u001b[0m\u001b[0;34m)\u001b[0m\u001b[0;34m,\u001b[0m\u001b[0;36m0\u001b[0m\u001b[0;34m)\u001b[0m\u001b[0;34m.\u001b[0m\u001b[0mshape\u001b[0m\u001b[0;34m\u001b[0m\u001b[0;34m\u001b[0m\u001b[0m\n\u001b[0m",
      "\u001b[0;31mAttributeError\u001b[0m: 'list' object has no attribute 'cpu'"
     ]
    }
   ],
   "source": [
    "np.concatenate(responses[0].cpu().numpy(),0).shape"
   ]
  },
  {
   "cell_type": "markdown",
   "metadata": {},
   "source": [
    "# PT Responses"
   ]
  },
  {
   "cell_type": "code",
   "execution_count": 41,
   "metadata": {},
   "outputs": [],
   "source": [
    "directory = '/data3/hamza/datasets/synthesized_tones/pt_logspec/'\n",
    "dataloader = data.DataIterator(dataset = 'frequencies',batch_size = 100,directory = directory,shuffle=False)"
   ]
  },
  {
   "cell_type": "code",
   "execution_count": 104,
   "metadata": {
    "scrolled": true
   },
   "outputs": [
    {
     "name": "stdout",
     "output_type": "stream",
     "text": [
      "0\n",
      "torch.Size([100, 1, 232, 5])\n",
      "1\n",
      "torch.Size([100, 1, 232, 5])\n",
      "2\n",
      "torch.Size([100, 1, 232, 5])\n",
      "3\n",
      "torch.Size([100, 1, 232, 5])\n",
      "4\n",
      "torch.Size([100, 1, 232, 5])\n",
      "5\n",
      "torch.Size([100, 1, 232, 5])\n",
      "6\n",
      "torch.Size([100, 1, 232, 5])\n",
      "7\n",
      "torch.Size([100, 1, 232, 5])\n",
      "8\n",
      "torch.Size([100, 1, 232, 5])\n",
      "9\n",
      "torch.Size([100, 1, 232, 5])\n",
      "10\n",
      "torch.Size([100, 1, 232, 5])\n",
      "11\n",
      "torch.Size([100, 1, 232, 5])\n",
      "12\n",
      "torch.Size([100, 1, 232, 5])\n",
      "13\n",
      "torch.Size([100, 1, 232, 5])\n",
      "14\n",
      "torch.Size([100, 1, 232, 5])\n",
      "15\n",
      "torch.Size([100, 1, 232, 5])\n",
      "16\n",
      "torch.Size([100, 1, 232, 5])\n",
      "17\n",
      "torch.Size([100, 1, 232, 5])\n",
      "18\n",
      "torch.Size([100, 1, 232, 5])\n",
      "19\n",
      "torch.Size([100, 1, 232, 5])\n",
      "20\n",
      "torch.Size([100, 1, 232, 5])\n",
      "21\n",
      "torch.Size([100, 1, 232, 5])\n",
      "22\n",
      "torch.Size([100, 1, 232, 5])\n",
      "23\n",
      "torch.Size([100, 1, 232, 5])\n",
      "24\n",
      "torch.Size([100, 1, 232, 5])\n",
      "25\n",
      "torch.Size([100, 1, 232, 5])\n",
      "26\n",
      "torch.Size([100, 1, 232, 5])\n",
      "27\n",
      "torch.Size([100, 1, 232, 5])\n",
      "28\n",
      "torch.Size([100, 1, 232, 5])\n",
      "29\n",
      "torch.Size([100, 1, 232, 5])\n",
      "30\n",
      "torch.Size([100, 1, 232, 5])\n",
      "31\n",
      "torch.Size([100, 1, 232, 5])\n",
      "32\n",
      "torch.Size([100, 1, 232, 5])\n",
      "33\n",
      "torch.Size([100, 1, 232, 5])\n",
      "34\n",
      "torch.Size([100, 1, 232, 5])\n",
      "35\n",
      "torch.Size([100, 1, 232, 5])\n",
      "36\n",
      "torch.Size([100, 1, 232, 5])\n",
      "37\n",
      "torch.Size([100, 1, 232, 5])\n",
      "38\n",
      "torch.Size([100, 1, 232, 5])\n",
      "39\n",
      "torch.Size([100, 1, 232, 5])\n",
      "40\n",
      "torch.Size([100, 1, 232, 5])\n"
     ]
    }
   ],
   "source": [
    "resp_code = [[] for i in range(4)]\n",
    "frequencies = [] \n",
    "outs = []\n",
    "outs2 = []\n",
    "ins = []\n",
    "\n",
    "encoder.eval()\n",
    "decoder.eval()\n",
    "\n",
    "with torch.no_grad():\n",
    "    for i,(x,freqs) in enumerate(dataloader.loader):\n",
    "        print(i)\n",
    "    #     cgrams = cgrams.unsqueeze(1)\n",
    "        x = x.type(torch.FloatTensor).unsqueeze(1).to(device)\n",
    "        x = x[...,:232,20:25]\n",
    "        M = x.max(axis=2).values.max(axis=1).values[:,None,None]\n",
    "        m = x.min(axis=2).values.min(axis=1).values[:,None,None]\n",
    "        x = (x-m)/(M-m)\n",
    "        print(x.shape)\n",
    "        \n",
    "        code = encoder.layers[0](x)     \n",
    "        #     code = torch.relu(code)\n",
    "        resp_code[0].append(code[...,0].cpu().data.numpy())\n",
    "\n",
    "        code = encoder.layers[1](code)\n",
    "        code = torch.relu(code)\n",
    "        resp_code[1].append(code[...,0].cpu().data.numpy())\n",
    "\n",
    "        \n",
    "        code = encoder.layers[2](code)\n",
    "        #     code = torch.relu(code)\n",
    "        resp_code[2].append(code[...,0].cpu().data.numpy())\n",
    "\n",
    "        \n",
    "        \n",
    "        code = encoder.layers[3](code)\n",
    "        code = torch.relu(code)\n",
    "        resp_code[3].append(code[...,0].cpu().data.numpy())\n",
    "\n",
    "\n",
    "        out = decoder.layers[0](code)\n",
    "        out = torch.relu(out)\n",
    "\n",
    "        out = decoder.layers[1](out)\n",
    "        out = torch.relu(out)\n",
    "    \n",
    "        outs.append(out[...,0].cpu().data.numpy())\n",
    "        \n",
    "        out = decoder.layers[2](out)\n",
    "        out = torch.relu(out)\n",
    "\n",
    "        out = decoder.layers[3](out)\n",
    "        out = torch.sigmoid(out)\n",
    "        \n",
    "        outs2.append(out[...,0].cpu().data.numpy())\n",
    "        \n",
    "        \n",
    "        ins.append(x[...,0].cpu().data.numpy())\n",
    "\n",
    "#         resp_code.append(code[...,0].cpu().data.numpy())\n",
    "        frequencies.append(freqs)\n",
    "        if i == 40 :\n",
    "            break\n",
    "\n",
    "            \n",
    "s = np.vstack(ins)       \n",
    "\n",
    "s = np.moveaxis(s,0,-1)\n",
    "\n",
    "r = [np.moveaxis(np.vstack(resp_code[i]),0,-1) for i in range(4)]\n",
    "o = np.vstack(outs)\n",
    "o2 = np.vstack(outs2)\n",
    "\n",
    "freqs = np.concatenate(frequencies)\n",
    "\n",
    "# r = np.moveaxis(r,0,-1)\n",
    "o = np.moveaxis(o,0,-1)\n",
    "o2 = np.moveaxis(o2,0,-1)\n"
   ]
  },
  {
   "cell_type": "code",
   "execution_count": 213,
   "metadata": {},
   "outputs": [
    {
     "data": {
      "text/plain": [
       "(64, 12, 2100)"
      ]
     },
     "execution_count": 213,
     "metadata": {},
     "output_type": "execute_result"
    }
   ],
   "source": [
    "r.shape"
   ]
  },
  {
   "cell_type": "code",
   "execution_count": 108,
   "metadata": {},
   "outputs": [
    {
     "data": {
      "application/vnd.jupyter.widget-view+json": {
       "model_id": "671cd51c8da34061be881348c5880171",
       "version_major": 2,
       "version_minor": 0
      },
      "text/plain": [
       "interactive(children=(IntSlider(value=1, description='layer', max=3), IntSlider(value=31, description='channel…"
      ]
     },
     "metadata": {},
     "output_type": "display_data"
    },
    {
     "data": {
      "text/plain": [
       "<Figure size 432x288 with 0 Axes>"
      ]
     },
     "metadata": {},
     "output_type": "display_data"
    },
    {
     "data": {
      "text/plain": [
       "<Figure size 432x288 with 0 Axes>"
      ]
     },
     "metadata": {},
     "output_type": "display_data"
    },
    {
     "data": {
      "text/plain": [
       "<Figure size 432x288 with 0 Axes>"
      ]
     },
     "metadata": {},
     "output_type": "display_data"
    },
    {
     "data": {
      "text/plain": [
       "<Figure size 432x288 with 0 Axes>"
      ]
     },
     "metadata": {},
     "output_type": "display_data"
    }
   ],
   "source": [
    "@interact\n",
    "def scat_plot(layer = (0,3,1), channel = (0,r[0].shape[0]-1,1),pos=(0,r[0].shape[1]-1,1)):\n",
    "    plt.figure()\n",
    "    maxf=2000\n",
    "    plt.plot(freqs[:maxf],r[layer][channel,pos][:maxf],label = 'tuning curve')\n",
    "#     plt.plot(freqs[:maxf],r[layer][channel,pos][:maxf].max()*p[channel,pos][:maxf],alpha = 0.5,label = 'peaks')\n",
    "\n",
    "#     plt.axis([None, None, m, M])\n",
    "\n",
    "#     plt.title(f'band {pos}/{layers[-1].n_bands} channel {channel}/{r.shape[0]} response')\n",
    "#     plt.title(f'channel {channel}/{r.shape[0]} response\\n Peaks at {freqs[p[channel,pos]]}')\n",
    "\n",
    "    plt.title('channel {channel}/{r[layer].shape[0]} response\\n Peaks at {freqs[:maxf][p[channel,pos][:maxf]]}')\n",
    "    plt.xlabel(f'frequencies',fontsize=16)\n",
    "    plt.ylabel('response',fontsize=16)\n",
    "    plt.legend()"
   ]
  },
  {
   "cell_type": "code",
   "execution_count": 34,
   "metadata": {
    "scrolled": false
   },
   "outputs": [
    {
     "data": {
      "application/vnd.jupyter.widget-view+json": {
       "model_id": "b0556db2a9db4959b2647608fdb406ba",
       "version_major": 2,
       "version_minor": 0
      },
      "text/plain": [
       "interactive(children=(IntSlider(value=31, description='channel', max=63), IntSlider(value=22, description='pos…"
      ]
     },
     "metadata": {},
     "output_type": "display_data"
    }
   ],
   "source": [
    "@interact\n",
    "def scat_plot(channel = (0,o.shape[0]-1,1),pos=(0,o.shape[1]-1,1)):\n",
    "    plt.figure()\n",
    "    plt.plot(freqs[:],o[channel,pos,:])\n",
    "#     plt.plot(freqs[:150],s[channel,:150])\n",
    "    \n",
    "    \n",
    "#     plt.axis([None, None, 0, 1])\n",
    "\n",
    "    plt.title(f'channel {channel}/{o.shape[0]} response')\n",
    "    plt.xlabel(f'frequencies')\n",
    "    plt.ylabel('response')"
   ]
  },
  {
   "cell_type": "code",
   "execution_count": 110,
   "metadata": {},
   "outputs": [],
   "source": [
    "p=[None for i in range(4)]\n",
    "rat=[None for i in range(4)]"
   ]
  },
  {
   "cell_type": "code",
   "execution_count": 159,
   "metadata": {},
   "outputs": [
    {
     "data": {
      "text/plain": [
       "Text(0, 0.5, 'Count')"
      ]
     },
     "execution_count": 159,
     "metadata": {},
     "output_type": "execute_result"
    },
    {
     "data": {
      "image/png": "[encoded data removed]",
      "text/plain": [
       "<Figure size 432x288 with 1 Axes>"
      ]
     },
     "metadata": {
      "needs_background": "light"
     },
     "output_type": "display_data"
    }
   ],
   "source": [
    "l = 0\n",
    "p[l] =  tc.peaks_bandwidth(r[l],n=15,m = 12,level=0.8)\n",
    "p[l] &= r[l]>0.2\n",
    "rat[l] = tc.all_peaks_ratios(p[l],freqs,max_n_peaks = 20)\n",
    "tc.plot_ratios_histogram(1/rat[l][1/rat[l]<3.3],bins=10,r=[2,3,5])\n",
    "len(rat[l])\n",
    "plt.xlabel('Peaks ratios',fontsize=16)\n",
    "plt.ylabel('Count',fontsize=16)\n",
    "# plt.savefig(os.path.join(fig_save_folder,\"79-code-ratios-distrib-speechlogspec5.pdf\"))"
   ]
  },
  {
   "cell_type": "code",
   "execution_count": 134,
   "metadata": {},
   "outputs": [
    {
     "data": {
      "text/plain": [
       "Text(0, 0.5, 'Count')"
      ]
     },
     "execution_count": 134,
     "metadata": {},
     "output_type": "execute_result"
    },
    {
     "data": {
      "image/png": "[encoded data removed]",
      "text/plain": [
       "<Figure size 432x288 with 1 Axes>"
      ]
     },
     "metadata": {
      "needs_background": "light"
     },
     "output_type": "display_data"
    }
   ],
   "source": [
    "l = 1\n",
    "p[l] =  tc.peaks_bandwidth(r[l],n=30,m = 15,level=0.8)\n",
    "p[l] &= r[l]>0.2\n",
    "rat[l] = tc.all_peaks_ratios(p[l],freqs,max_n_peaks = 20)\n",
    "tc.plot_ratios_histogram(1/rat[l][(1/rat[l]<3.3) & (1/rat[l]>1.2)],bins=25,r=[2,3,5])\n",
    "len(rat[l])\n",
    "plt.xlabel('Peaks ratios',fontsize=16)\n",
    "plt.ylabel('Count',fontsize=16)\n",
    "# plt.savefig(os.path.join(fig_save_folder,\"79-code-ratios-distrib-speechlogspec5.pdf\"))"
   ]
  },
  {
   "cell_type": "code",
   "execution_count": 133,
   "metadata": {},
   "outputs": [
    {
     "data": {
      "text/plain": [
       "Text(0, 0.5, 'Count')"
      ]
     },
     "execution_count": 133,
     "metadata": {},
     "output_type": "execute_result"
    },
    {
     "data": {
      "image/png": "[encoded data removed]",
      "text/plain": [
       "<Figure size 432x288 with 1 Axes>"
      ]
     },
     "metadata": {
      "needs_background": "light"
     },
     "output_type": "display_data"
    }
   ],
   "source": [
    "l = 2\n",
    "p[l] =  tc.peaks_bandwidth(r[l],n=35,m = 30,level=0.7)\n",
    "p[l] &= r[l]>0.2\n",
    "rat[l] = tc.all_peaks_ratios(p[l],freqs,max_n_peaks = 20)\n",
    "tc.plot_ratios_histogram(1/rat[l][1/rat[l]<3.3],bins=25,r=[2,3,5])\n",
    "len(rat[l])\n",
    "plt.xlabel('Peaks ratios',fontsize=16)\n",
    "plt.ylabel('Count',fontsize=16)\n",
    "# plt.savefig(os.path.join(fig_save_folder,\"79-code-ratios-distrib-speechlogspec5.pdf\"))"
   ]
  },
  {
   "cell_type": "code",
   "execution_count": 135,
   "metadata": {},
   "outputs": [
    {
     "data": {
      "text/plain": [
       "Text(0, 0.5, 'Count')"
      ]
     },
     "execution_count": 135,
     "metadata": {},
     "output_type": "execute_result"
    },
    {
     "data": {
      "image/png": "[encoded data removed]",
      "text/plain": [
       "<Figure size 432x288 with 1 Axes>"
      ]
     },
     "metadata": {
      "needs_background": "light"
     },
     "output_type": "display_data"
    }
   ],
   "source": [
    "l = 3\n",
    "p[l] =  tc.peaks_bandwidth(r[l],n=50,m = 45,level=0.8)\n",
    "p[l] &= r[l]>0.4\n",
    "rat[l] = tc.all_peaks_ratios(p[l],freqs,max_n_peaks = 20)\n",
    "tc.plot_ratios_histogram(1/rat[l][1/rat[l]<3.3],bins=25,r=[2,3,5])\n",
    "len(rat[l])\n",
    "plt.xlabel('Peaks ratios',fontsize=16)\n",
    "plt.ylabel('Count',fontsize=16)\n",
    "# plt.savefig(os.path.join(fig_save_folder,\"79-code-ratios-distrib-speechlogspec5.pdf\"))"
   ]
  },
  {
   "cell_type": "code",
   "execution_count": 232,
   "metadata": {},
   "outputs": [
    {
     "data": {
      "application/vnd.jupyter.widget-view+json": {
       "model_id": "47e469cfa2b64d81ab820ebef3303630",
       "version_major": 2,
       "version_minor": 0
      },
      "text/plain": [
       "interactive(children=(IntSlider(value=1050, description='f', max=2100), Output()), _dom_classes=('widget-inter…"
      ]
     },
     "metadata": {},
     "output_type": "display_data"
    }
   ],
   "source": [
    "@interact\n",
    "def plot_out(f=(0,freqs.shape[0],1)):\n",
    "    plt.plot(s[0,:,f],label='input',color='k',linestyle='dashed')\n",
    "    plt.plot(o2[0,:,f],label='output',color='k')\n",
    "    plt.xlabel('log spectrogram position')\n",
    "    plt.ylabel('activation level')\n",
    "    plt.legend()\n",
    "    plt.savefig(os.path.join(fig_save_folder,f\"4b-spectrum_completion-frequency{f}.pdf\"))"
   ]
  },
  {
   "cell_type": "markdown",
   "metadata": {},
   "source": [
    "Should only consider the position that is the most activated for a channel?"
   ]
  },
  {
   "cell_type": "markdown",
   "metadata": {},
   "source": [
    "# MF response"
   ]
  },
  {
   "cell_type": "code",
   "execution_count": 60,
   "metadata": {},
   "outputs": [],
   "source": [
    "directory_mf = '/data3/hamza/datasets/synthesized_tones/mf234_logspec10/'\n",
    "dataloader_mf = data.DataIterator(dataset = 'frequencies',batch_size = 100,directory = directory_mf,shuffle=False)"
   ]
  },
  {
   "cell_type": "code",
   "execution_count": 67,
   "metadata": {
    "scrolled": true
   },
   "outputs": [
    {
     "name": "stdout",
     "output_type": "stream",
     "text": [
      "0\n",
      "torch.Size([100, 1, 232, 5])\n",
      "1\n",
      "torch.Size([100, 1, 232, 5])\n",
      "2\n",
      "torch.Size([100, 1, 232, 5])\n",
      "3\n",
      "torch.Size([100, 1, 232, 5])\n",
      "4\n",
      "torch.Size([100, 1, 232, 5])\n",
      "5\n",
      "torch.Size([100, 1, 232, 5])\n",
      "6\n",
      "torch.Size([100, 1, 232, 5])\n",
      "7\n",
      "torch.Size([100, 1, 232, 5])\n",
      "8\n",
      "torch.Size([100, 1, 232, 5])\n",
      "9\n",
      "torch.Size([100, 1, 232, 5])\n",
      "10\n",
      "torch.Size([100, 1, 232, 5])\n",
      "11\n",
      "torch.Size([100, 1, 232, 5])\n",
      "12\n",
      "torch.Size([100, 1, 232, 5])\n",
      "13\n",
      "torch.Size([100, 1, 232, 5])\n",
      "14\n",
      "torch.Size([100, 1, 232, 5])\n",
      "15\n",
      "torch.Size([100, 1, 232, 5])\n",
      "16\n",
      "torch.Size([100, 1, 232, 5])\n",
      "17\n",
      "torch.Size([100, 1, 232, 5])\n",
      "18\n",
      "torch.Size([100, 1, 232, 5])\n",
      "19\n",
      "torch.Size([100, 1, 232, 5])\n",
      "20\n",
      "torch.Size([100, 1, 232, 5])\n"
     ]
    }
   ],
   "source": [
    "resp_code = []\n",
    "frequencies = [] \n",
    "outs = []\n",
    "ins = []\n",
    "\n",
    "encoder.eval()\n",
    "decoder.eval()\n",
    "\n",
    "with torch.no_grad():\n",
    "    for i,(x,freqs) in enumerate(dataloader_mf.loader):\n",
    "        print(i)\n",
    "    #     cgrams = cgrams.unsqueeze(1)\n",
    "        x = x.type(torch.FloatTensor).unsqueeze(1).to(device)\n",
    "        x = x[...,:232,20:25]\n",
    "        M = x.max(axis=2).values.max(axis=1).values[:,None,None]\n",
    "        m = x.min(axis=2).values.min(axis=1).values[:,None,None]\n",
    "        x = (x-m)/(M-m)\n",
    "        print(x.shape)\n",
    "        \n",
    "        code = encoder.layers[0](x)     \n",
    "        #     code = torch.relu(code)\n",
    "\n",
    "        code = encoder.layers[1](code)\n",
    "        code = torch.relu(code)\n",
    "\n",
    "        code = encoder.layers[2](code)\n",
    "        #     code = torch.relu(code)\n",
    "\n",
    "        code = encoder.layers[3](code)\n",
    "        code = torch.relu(code)\n",
    "        \n",
    "        \n",
    "        out = torch.relu(decoder.layers[0](code))\n",
    "        out = torch.relu(decoder.layers[1](out))\n",
    "        outs.append(out[...,0].cpu().data.numpy())\n",
    "\n",
    "        out = torch.relu(decoder.layers[2](out))\n",
    "        out = torch.sigmoid(decoder.layers[3](out))\n",
    "        outs2.append(out[...,0].cpu().data.numpy())\n",
    "        \n",
    "        \n",
    "        ins.append(x[...,0].cpu().data.numpy())\n",
    "\n",
    "        resp_code.append(code[...,0].cpu().data.numpy())\n",
    "        frequencies.append(freqs)\n",
    "        if i==20:\n",
    "            break\n",
    "\n",
    "s_mf = np.vstack(ins)       \n",
    "r_mf = np.vstack(resp_code)\n",
    "o_mf = np.vstack(outs)\n",
    "\n",
    "freqs = np.concatenate(frequencies)\n",
    "\n",
    "s_mf = np.moveaxis(s_mf,0,-1)\n",
    "r_mf = np.moveaxis(r_mf,0,-1)\n",
    "o_mf = np.moveaxis(o_mf,0,-1)\n"
   ]
  },
  {
   "cell_type": "code",
   "execution_count": 68,
   "metadata": {},
   "outputs": [],
   "source": [
    "o2_mf = np.vstack(outs2)\n",
    "\n",
    "o2_mf = np.moveaxis(o2_mf,0,-1)\n"
   ]
  },
  {
   "cell_type": "code",
   "execution_count": 64,
   "metadata": {},
   "outputs": [
    {
     "data": {
      "text/plain": [
       "(1, 232, 2100)"
      ]
     },
     "execution_count": 64,
     "metadata": {},
     "output_type": "execute_result"
    }
   ],
   "source": [
    "s_mf.shape"
   ]
  },
  {
   "cell_type": "code",
   "execution_count": 142,
   "metadata": {},
   "outputs": [],
   "source": [
    "f_pos = 20*(2**(1/24))**np.arange(240)"
   ]
  },
  {
   "cell_type": "code",
   "execution_count": null,
   "metadata": {},
   "outputs": [],
   "source": []
  },
  {
   "cell_type": "code",
   "execution_count": 145,
   "metadata": {},
   "outputs": [
    {
     "data": {
      "text/plain": [
       "(array([67, 68]),)"
      ]
     },
     "execution_count": 145,
     "metadata": {},
     "output_type": "execute_result"
    }
   ],
   "source": [
    "np.where((f_pos>140-5)&(f_pos<140+5))"
   ]
  },
  {
   "cell_type": "code",
   "execution_count": 148,
   "metadata": {},
   "outputs": [
    {
     "data": {
      "text/plain": [
       "90.0"
      ]
     },
     "execution_count": 148,
     "metadata": {},
     "output_type": "execute_result"
    }
   ],
   "source": [
    "np.round(24*np.log2(267/20))"
   ]
  },
  {
   "cell_type": "code",
   "execution_count": 158,
   "metadata": {},
   "outputs": [
    {
     "data": {
      "application/vnd.jupyter.widget-view+json": {
       "model_id": "847585d908c74782b00e58683772c427",
       "version_major": 2,
       "version_minor": 0
      },
      "text/plain": [
       "interactive(children=(IntSlider(value=2050, description='f', max=4100), Output()), _dom_classes=('widget-inter…"
      ]
     },
     "metadata": {},
     "output_type": "display_data"
    }
   ],
   "source": [
    "@interact\n",
    "def plot_out(f=(0,freqs.shape[0],1)):\n",
    "    plt.axvline(np.round(24*np.log2(f/20))+1,alpha=0.7,label='f_0')\n",
    "\n",
    "    plt.plot(s_mf[0,:,f],label='input',color='k',linestyle='dashed')\n",
    "    plt.plot(o2_mf[0,:,f],label='output',color='k')\n",
    "    plt.xlabel('log spectrogram position',fontsize=16)\n",
    "    plt.ylabel('activation level',fontsize=16)\n",
    "    plt.title(f'Missing Fundamental reconstruction f_0 = {f}Hz')\n",
    "    plt.legend()\n",
    "#     plt.savefig(os.path.join(fig_save_folder,f\"4b-spectrum_completion-frequency_mf{f}.pdf\"))"
   ]
  },
  {
   "cell_type": "code",
   "execution_count": null,
   "metadata": {},
   "outputs": [],
   "source": []
  },
  {
   "cell_type": "code",
   "execution_count": 70,
   "metadata": {},
   "outputs": [
    {
     "data": {
      "application/vnd.jupyter.widget-view+json": {
       "model_id": "8c06022d2fe14f35939dd3b5e4785e9a",
       "version_major": 2,
       "version_minor": 0
      },
      "text/plain": [
       "interactive(children=(IntSlider(value=31, description='channel', max=63), IntSlider(value=5, description='pos'…"
      ]
     },
     "metadata": {},
     "output_type": "display_data"
    }
   ],
   "source": [
    "@interact\n",
    "def scat_plot(channel = (0,r_mf.shape[0]-1,1),pos=(0,r_mf.shape[1]-1,1)):\n",
    "    plt.figure()\n",
    "    maxf = 1000\n",
    "    plt.plot(freqs[:maxf],r_mf[channel,pos,:maxf],label='MF tuning curve')\n",
    "    plt.plot(freqs[:maxf],r[channel,pos,:maxf],label='PT tuning curve')\n",
    "    \n",
    "#     plt.axis([None, None, m, M])\n",
    "\n",
    "    plt.title(f'channel {channel}/{r.shape[0]} response')\n",
    "    plt.xlabel(f'frequencies')\n",
    "    plt.ylabel('response')\n",
    "    plt.legend()"
   ]
  },
  {
   "cell_type": "code",
   "execution_count": 80,
   "metadata": {},
   "outputs": [
    {
     "data": {
      "application/vnd.jupyter.widget-view+json": {
       "model_id": "6b1a8505986d45a095f14129ea7fa906",
       "version_major": 2,
       "version_minor": 0
      },
      "text/plain": [
       "interactive(children=(IntSlider(value=31, description='channel', max=63), IntSlider(value=5, description='pos'…"
      ]
     },
     "metadata": {},
     "output_type": "display_data"
    }
   ],
   "source": [
    "@interact\n",
    "def scat_plot(channel = (0,r_mf.shape[0]-1,1),pos=(0,r_mf.shape[1]-1,1)):\n",
    "    plt.figure()\n",
    "    maxf = 1000\n",
    "    plt.plot(freqs[:maxf],r_mf[channel,pos,:maxf],label='MF tuning curve',color = 'blue',alpha = 0.5,linestyle = '--')\n",
    "    plt.plot(freqs[:maxf],p_mf[channel,pos,:maxf],label='MF peaks',color = 'blue')\n",
    "    \n",
    "    plt.plot(freqs[:maxf],r[channel,pos,:maxf],label='PT tuning curve',alpha = 0.5,color = 'black',linestyle = '--')\n",
    "    plt.plot(freqs[:maxf],p[channel,pos,:maxf],label='PT peaks',color = 'black')\n",
    "    \n",
    "#     plt.axis([None, None, m, M])\n",
    "\n",
    "    plt.title(f'channel {channel}/{r.shape[0]} response')\n",
    "    plt.xlabel(f'frequencies')\n",
    "    plt.ylabel('response')\n",
    "    plt.legend()\n",
    "    print((p_mf[channel,pos,:maxf] * p[channel,pos,:maxf]).sum())"
   ]
  },
  {
   "cell_type": "code",
   "execution_count": 93,
   "metadata": {},
   "outputs": [
    {
     "data": {
      "application/vnd.jupyter.widget-view+json": {
       "model_id": "a6a476eda27d48eba66229c715052c6a",
       "version_major": 2,
       "version_minor": 0
      },
      "text/plain": [
       "interactive(children=(IntSlider(value=99, description='i', max=199), Output()), _dom_classes=('widget-interact…"
      ]
     },
     "metadata": {},
     "output_type": "display_data"
    }
   ],
   "source": [
    "@interact\n",
    "def plot(i = (0,sp_pos.shape[0]-1,1 )):\n",
    "\n",
    "    maxf = 1000\n",
    "    plt.plot(freqs[:maxf],r_mf[tuple(sp_pos[i])][:maxf],label='MF tuning curve',color = 'blue',alpha = 0.5,linestyle = '--')\n",
    "    plt.plot(freqs[:maxf],p_mf[tuple(sp_pos[i])][:maxf],label='MF peaks',color = 'blue')\n",
    "    \n",
    "    plt.plot(freqs[:maxf],r[tuple(sp_pos[i])][:maxf],label='PT tuning curve',alpha = 0.5,color = 'black',linestyle = '--')\n",
    "    plt.plot(freqs[:maxf],p[tuple(sp_pos[i])][:maxf],label='PT peaks',color = 'black')\n",
    "    print(freqs[:maxf][p[tuple(sp_pos[i])][:maxf]])\n",
    "    plt.legend()"
   ]
  },
  {
   "cell_type": "code",
   "execution_count": 83,
   "metadata": {},
   "outputs": [
    {
     "data": {
      "text/plain": [
       "(array([ 1,  3,  5,  5,  5,  5, 10, 14, 14, 14, 16, 16, 26, 26, 26, 39, 45,\n",
       "        45, 50, 51, 51]),\n",
       " array([ 3,  8,  2,  3,  4,  5,  6,  8,  9, 10,  8,  8,  6, 10, 11,  1, 10,\n",
       "        11,  8,  4,  6]),\n",
       " array([167, 449,  65,  74,  84,  95, 213, 167, 189, 213, 334, 678, 131,\n",
       "         57,  65, 271, 148, 167,  79, 105, 135]))"
      ]
     },
     "execution_count": 83,
     "metadata": {},
     "output_type": "execute_result"
    }
   ],
   "source": [
    "np.where(p_mf[...,:2000] * p[...,:2000])"
   ]
  },
  {
   "cell_type": "code",
   "execution_count": 54,
   "metadata": {},
   "outputs": [
    {
     "data": {
      "application/vnd.jupyter.widget-view+json": {
       "model_id": "276dfffc806d457bacd24a3e6993722d",
       "version_major": 2,
       "version_minor": 0
      },
      "text/plain": [
       "interactive(children=(IntSlider(value=77, description='i', max=155), Output()), _dom_classes=('widget-interact…"
      ]
     },
     "metadata": {},
     "output_type": "display_data"
    }
   ],
   "source": [
    "@interact\n",
    "def plot(i = (0,r_sp.shape[0],1)):\n",
    "    plt.figure()\n",
    "    maxf = 1000\n",
    "    plt.plot(freqs[:maxf],r_sp[i,:maxf],label='PT tuning curve')\n",
    "    plt.plot(freqs[:maxf],p_sp[i,:maxf],label='peak')\n",
    "    plt.plot(freqs[:maxf],r_mf_sp[i,:maxf],label='MF tuning curve')\n",
    "    plt.legend()"
   ]
  },
  {
   "cell_type": "code",
   "execution_count": 246,
   "metadata": {
    "scrolled": true
   },
   "outputs": [
    {
     "data": {
      "image/png": "[encoded data removed]",
      "text/plain": [
       "<Figure size 432x288 with 1 Axes>"
      ]
     },
     "metadata": {
      "needs_background": "light"
     },
     "output_type": "display_data"
    }
   ],
   "source": [
    "@interact\n",
    "def scat_plot(channel = (0,o_mf.shape[0]-1,1),pos=(0,o_mf.shape[1]-1,1)):\n",
    "    plt.figure()\n",
    "    maxf = 1000\n",
    "    plt.plot(freqs[:maxf],o_mf[channel,pos,:maxf],label='MF tuning curve')\n",
    "    plt.plot(freqs[:maxf],o[channel,pos,:maxf],label='PT tuning curve')\n",
    "    \n",
    "#     plt.axis([None, None, m, M])\n",
    "\n",
    "    plt.title(f'channel {channel}/{r.shape[0]} response')\n",
    "    plt.xlabel(f'frequencies')\n",
    "    plt.ylabel('response')\n",
    "    plt.legend()"
   ]
  },
  {
   "cell_type": "code",
   "execution_count": null,
   "metadata": {},
   "outputs": [],
   "source": []
  },
  {
   "cell_type": "code",
   "execution_count": 110,
   "metadata": {},
   "outputs": [],
   "source": [
    "argmax = o.max(axis = -1).argmax(axis = -1)"
   ]
  },
  {
   "cell_type": "code",
   "execution_count": 111,
   "metadata": {},
   "outputs": [],
   "source": [
    "mask = np.zeros(o.shape[:2],dtype = bool)\n",
    "for i in range(mask.shape[0]):\n",
    "    mask[i,argmax[i]] = True"
   ]
  },
  {
   "cell_type": "code",
   "execution_count": 112,
   "metadata": {},
   "outputs": [
    {
     "data": {
      "text/plain": [
       "<matplotlib.image.AxesImage at 0x7f07d02e6cc0>"
      ]
     },
     "execution_count": 112,
     "metadata": {},
     "output_type": "execute_result"
    },
    {
     "data": {
      "image/png": "[encoded data removed]",
      "text/plain": [
       "<Figure size 432x288 with 1 Axes>"
      ]
     },
     "metadata": {
      "needs_background": "light"
     },
     "output_type": "display_data"
    }
   ],
   "source": [
    "plt.imshow(mask)"
   ]
  },
  {
   "cell_type": "code",
   "execution_count": 113,
   "metadata": {},
   "outputs": [],
   "source": [
    "select_o = o[mask]"
   ]
  },
  {
   "cell_type": "code",
   "execution_count": 114,
   "metadata": {},
   "outputs": [
    {
     "data": {
      "application/vnd.jupyter.widget-view+json": {
       "model_id": "8663a5868be54e0aac5f825b27a57bd7",
       "version_major": 2,
       "version_minor": 0
      },
      "text/plain": [
       "interactive(children=(IntSlider(value=31, description='channel', max=63), Output()), _dom_classes=('widget-int…"
      ]
     },
     "metadata": {},
     "output_type": "display_data"
    }
   ],
   "source": [
    "@interact\n",
    "def scat_plot(channel = (0,o.shape[0]-1,1)):\n",
    "    plt.figure()\n",
    "    plt.plot(freqs[:],select_o[channel,:])\n",
    "#     plt.plot(freqs[:150],s[channel,:150])\n",
    "    \n",
    "    \n",
    "#     plt.axis([None, None, 0, 1])\n",
    "\n",
    "    plt.title(f'channel {channel}/{o.shape[0]} response')\n",
    "    plt.xlabel(f'frequencies')\n",
    "    plt.ylabel('response')"
   ]
  },
  {
   "cell_type": "code",
   "execution_count": 115,
   "metadata": {},
   "outputs": [],
   "source": [
    "def peaks_bandwidth(arr, n,m,level = 1.1):\n",
    "    out_arr = np.zeros(arr.shape,dtype=bool)\n",
    "    out_arr[..., n+1:-(n+1)] = True\n",
    "\n",
    "    for i in range(1, m):\n",
    "        out_arr[..., n+1:-(n+1)] &= (arr[..., n+1:-(n+1)] > arr[..., n+1-i:-(n+1)-i]) # increasing to the left of the peak      \n",
    "\n",
    "        out_arr[..., n+1:-(n+1)] &= (arr[..., n+1:-(n+1)] > arr[..., n+1+i:-(n+1)+i])\n",
    "        \n",
    "    for i in range(m,n):\n",
    "        out_arr[..., n+1:-(n+1)] &= (arr[..., n+1:-(n+1)] > level*arr[..., n+1-i:-(n+1)-i]) # increasing to the left of the peak      \n",
    "        out_arr[..., n+1:-(n+1)] &= (arr[..., n+1:-(n+1)] > level*arr[..., n+1+i:-(n+1)+i])\n",
    "\n",
    "    return out_arr\n"
   ]
  },
  {
   "cell_type": "code",
   "execution_count": 116,
   "metadata": {},
   "outputs": [],
   "source": [
    "p_o = tc.peaks_bandwidth(select_o,n=35,m = 30,level=1.1)"
   ]
  },
  {
   "cell_type": "code",
   "execution_count": 117,
   "metadata": {},
   "outputs": [
    {
     "data": {
      "text/plain": [
       "337"
      ]
     },
     "execution_count": 117,
     "metadata": {},
     "output_type": "execute_result"
    }
   ],
   "source": [
    "p_o.sum()"
   ]
  },
  {
   "cell_type": "code",
   "execution_count": 118,
   "metadata": {},
   "outputs": [
    {
     "data": {
      "application/vnd.jupyter.widget-view+json": {
       "model_id": "5b076b4393f44ab89863ab221f266dd9",
       "version_major": 2,
       "version_minor": 0
      },
      "text/plain": [
       "interactive(children=(IntSlider(value=32, description='channel', max=64), Output()), _dom_classes=('widget-int…"
      ]
     },
     "metadata": {},
     "output_type": "display_data"
    }
   ],
   "source": [
    "@interact\n",
    "def plot(channel = (0,o.shape[0],1)):\n",
    "    n=1500\n",
    "    plt.figure()\n",
    "    plt.plot(freqs[:n],select_o[channel,:n])\n",
    "    plt.plot(freqs[:n],p_o[channel,:n])\n",
    "    \n",
    "#     plt.axis([None, None, m, M])\n",
    "\n",
    "    plt.title(f'channel {channel}/{select_o.shape[0]} response\\n Peaks at {freqs[:n][p_o[channel,:n]]}')\n",
    "    plt.xlabel(f'frequencies')\n",
    "    plt.ylabel('response')"
   ]
  },
  {
   "cell_type": "code",
   "execution_count": 124,
   "metadata": {},
   "outputs": [
    {
     "data": {
      "text/plain": [
       "(array([19., 18.,  8., 10.,  6.,  4., 11.,  2.,  8.,  3.,  5.,  6.,  9.,\n",
       "         2.,  1.,  4.,  4.,  2.,  0.,  3.,  2.,  1.,  0.,  0.,  1.,  3.,\n",
       "         0.,  0.,  2.,  0.,  1.]),\n",
       " array([1.02880658, 1.10810465, 1.18740272, 1.26670078, 1.34599885,\n",
       "        1.42529691, 1.50459498, 1.58389305, 1.66319111, 1.74248918,\n",
       "        1.82178724, 1.90108531, 1.98038338, 2.05968144, 2.13897951,\n",
       "        2.21827758, 2.29757564, 2.37687371, 2.45617177, 2.53546984,\n",
       "        2.61476791, 2.69406597, 2.77336404, 2.8526621 , 2.93196017,\n",
       "        3.01125824, 3.0905563 , 3.16985437, 3.24915243, 3.3284505 ,\n",
       "        3.40774857, 3.48704663]),\n",
       " <a list of 31 Patch objects>)"
      ]
     },
     "execution_count": 124,
     "metadata": {},
     "output_type": "execute_result"
    },
    {
     "data": {
      "image/png": "[encoded data removed]",
      "text/plain": [
       "<Figure size 432x288 with 1 Axes>"
      ]
     },
     "metadata": {
      "needs_background": "light"
     },
     "output_type": "display_data"
    }
   ],
   "source": [
    "rat = tc.all_peaks_ratios(p_o,freqs,max_n_peaks = 10)\n",
    "plot_ratios_histogram(1/rat[1/rat<3.5],bins=31)"
   ]
  },
  {
   "cell_type": "code",
   "execution_count": null,
   "metadata": {},
   "outputs": [],
   "source": [
    "p = tc.peaks_bandwidth(o,n=40,m = 35,level=0.7)\n",
    "p &= o>0.2\n",
    "rat = tc.all_peaks_ratios(p,freqs,max_n_peaks = 10)\n",
    "tc.plot_ratios_histogram(1/rat[1/rat<6.2],bins=60,r=[1,2,3,4,5])\n",
    "len(rat)\n",
    "plt.savefig(os.path.join(fig_save_folder,\"3-2ndlayerdecoder-ratios-distrib-speechlogspec3.pdf\"))"
   ]
  },
  {
   "cell_type": "code",
   "execution_count": 54,
   "metadata": {},
   "outputs": [
    {
     "data": {
      "image/png": "[encoded data removed]",
      "text/plain": [
       "<Figure size 432x288 with 1 Axes>"
      ]
     },
     "metadata": {
      "needs_background": "light"
     },
     "output_type": "display_data"
    }
   ],
   "source": [
    "p = tc.peaks_bandwidth(r,n=50,m = 45,level=0.8)\n",
    "p &= r>0.6\n",
    "rat = tc.all_peaks_ratios(p,freqs,max_n_peaks = 20)\n",
    "tc.plot_ratios_histogram(1/rat[1/rat<3.3],bins=25,r=[2,3,5])\n",
    "len(rat)\n",
    "plt.xlabel('Peaks ratios',fontsize=16)\n",
    "plt.ylabel('Count',fontsize=16)\n",
    "plt.savefig(os.path.join(fig_save_folder,\"79-code-ratios-distrib-speechlogspec5.pdf\"))"
   ]
  },
  {
   "cell_type": "code",
   "execution_count": 78,
   "metadata": {},
   "outputs": [
    {
     "data": {
      "text/plain": [
       "Text(0, 0.5, 'Count')"
      ]
     },
     "execution_count": 78,
     "metadata": {},
     "output_type": "execute_result"
    },
    {
     "data": {
      "image/png": "[encoded data removed]",
      "text/plain": [
       "<Figure size 432x288 with 1 Axes>"
      ]
     },
     "metadata": {
      "needs_background": "light"
     },
     "output_type": "display_data"
    }
   ],
   "source": [
    "p_mf = tc.peaks_bandwidth(r_mf,n=40,m = 35,level=0.8)\n",
    "p_mf &= r_mf>0.6\n",
    "rat_mf = tc.all_peaks_ratios(p_mf,freqs,max_n_peaks = 20)\n",
    "tc.plot_ratios_histogram(1/rat_mf[1/rat_mf<3.3],bins=25,r=[2,3,5])\n",
    "len(rat_mf)\n",
    "plt.xlabel('Peaks ratios',fontsize=16)\n",
    "plt.ylabel('Count',fontsize=16)\n",
    "# plt.savefig(os.path.join(fig_save_folder,\"79-code-ratios-distrib-speechlogspec5.pdf\"))"
   ]
  },
  {
   "cell_type": "code",
   "execution_count": 49,
   "metadata": {},
   "outputs": [
    {
     "data": {
      "text/plain": [
       "200"
      ]
     },
     "execution_count": 49,
     "metadata": {},
     "output_type": "execute_result"
    }
   ],
   "source": [
    "(p.sum(axis=-1)==1).sum()"
   ]
  },
  {
   "cell_type": "code",
   "execution_count": 91,
   "metadata": {},
   "outputs": [],
   "source": [
    "channel = 1\n",
    "pos = 2\n",
    "n = 60\n",
    "m = 40\n",
    "l = 0.5\n",
    "curve = r[channel,pos]\n",
    "p = tc.peaks_bandwidth(r,n=n,m = m,level=l)\n",
    "\n",
    "p_ = p[channel,pos]\n",
    "thres = np.zeros(curve.shape[0])\n",
    "for ind in np.where(p_)[0]:\n",
    "    thres[ind - n:ind + n] = curve[ind]*l\n",
    "    thres[ind - m:ind + m] = curve[ind]"
   ]
  },
  {
   "cell_type": "code",
   "execution_count": 92,
   "metadata": {},
   "outputs": [],
   "source": [
    "thres[np.where(thres == 0)] = np.nan"
   ]
  },
  {
   "cell_type": "code",
   "execution_count": 93,
   "metadata": {},
   "outputs": [],
   "source": [
    "# %matplotlib notebook"
   ]
  },
  {
   "cell_type": "code",
   "execution_count": 112,
   "metadata": {},
   "outputs": [
    {
     "data": {
      "application/vnd.jupyter.widget-view+json": {
       "model_id": "0d37b47f1d8d4e6ba9b97408b771c882",
       "version_major": 2,
       "version_minor": 0
      },
      "text/plain": [
       "interactive(children=(IntSlider(value=32, description='channel', max=64), IntSlider(value=6, description='pos'…"
      ]
     },
     "metadata": {},
     "output_type": "display_data"
    }
   ],
   "source": [
    "@interact\n",
    "def plot(channel = (0,r.shape[0],1),pos = (0,r.shape[1],1)):\n",
    "    \n",
    "    n = 80\n",
    "    m = 40\n",
    "    l = 0.8\n",
    "    curve = r[channel,pos]\n",
    "    p = tc.peaks_bandwidth(r,n=n,m = m,level=l)\n",
    "\n",
    "    p_ = p[channel,pos]\n",
    "    thres = np.zeros(curve.shape[0])\n",
    "    for ind in np.where(p_)[0]:\n",
    "        thres[ind - n:ind + n] = curve[ind]*l\n",
    "        thres[ind - m:ind + m] = curve[ind]\n",
    "    thres[np.where(thres == 0)] = np.nan\n",
    "    n=1000\n",
    "    plt.figure()\n",
    "    plt.plot(freqs[:n],r[channel,pos,:n],label='tuning curve',color='k')\n",
    "    plt.plot(freqs[:n],r[channel,pos,:n]*p[channel,pos,:n],label='detected peaks',color='gray')\n",
    "    plt.plot(freqs[:n],thres[:n],color='k',linestyle='dashed',label='bandwidth')\n",
    "#     plt.plot(freqs[:n],p[channel,pos,:n])\n",
    "\n",
    "    plt.title(f'channel {channel}/{o.shape[0]} response\\n Peaks at {freqs[:n][p[channel,pos,:n]]}')\n",
    "    plt.xlabel(f'frequencies')\n",
    "    plt.ylabel('response')\n",
    "    plt.legend()\n",
    "    plt.savefig(os.path.join(fig_save_folder,f\"4-Example-tc-bandwidth-c{channel}-p{pos}.pdf\"))"
   ]
  },
  {
   "cell_type": "code",
   "execution_count": 90,
   "metadata": {
    "scrolled": true
   },
   "outputs": [
    {
     "data": {
      "application/vnd.jupyter.widget-view+json": {
       "model_id": "e2261bcd2ec34f5ea0bd5162ed2f4e67",
       "version_major": 2,
       "version_minor": 0
      },
      "text/plain": [
       "interactive(children=(IntSlider(value=32, description='channel', max=64), IntSlider(value=23, description='pos…"
      ]
     },
     "metadata": {},
     "output_type": "display_data"
    },
    {
     "data": {
      "image/png": "[encoded data removed]",
      "text/plain": [
       "<Figure size 432x288 with 1 Axes>"
      ]
     },
     "metadata": {
      "needs_background": "light"
     },
     "output_type": "display_data"
    }
   ],
   "source": [
    "@interact\n",
    "def plot(channel = (0,o.shape[0],1),pos = (0,o.shape[1],1)):\n",
    "    n=5000\n",
    "    plt.figure()\n",
    "    plt.plot(freqs[:n],o[channel,pos,:n])\n",
    "    plt.plot(freqs[:n],o[channel,pos,:n].max()*p[channel,pos,:n])\n",
    "#     plt.plot(freqs[:n],thres[:n])\n",
    "\n",
    "\n",
    "    plt.title(f'channel {channel}/{select_o.shape[0]} response\\n Peaks at {freqs[:n][p[channel,pos,:n]]}')\n",
    "    plt.xlabel(f'frequencies')\n",
    "    plt.ylabel('response')"
   ]
  },
  {
   "cell_type": "code",
   "execution_count": 244,
   "metadata": {},
   "outputs": [
    {
     "data": {
      "text/plain": [
       "861"
      ]
     },
     "execution_count": 244,
     "metadata": {},
     "output_type": "execute_result"
    },
    {
     "data": {
      "image/png": "[encoded data removed]",
      "text/plain": [
       "<Figure size 432x288 with 1 Axes>"
      ]
     },
     "metadata": {
      "needs_background": "light"
     },
     "output_type": "display_data"
    }
   ],
   "source": [
    "p = tc.peaks_bandwidth(r,n=100,m = 30,level=0.7)\n",
    "p&= r >0.2\n",
    "rat = tc.all_peaks_ratios(p,freqs,max_n_peaks = 40)\n",
    "tc.plot_ratios_histogram(1/rat[1/rat<3.2],bins=25,r=[1,2,3,4,5])\n",
    "# plt.savefig(os.path.join(fig_save_folder,\"3-code-ratios-distrib-speechlogspec1.pdf\"))\n",
    "len(rat)"
   ]
  },
  {
   "cell_type": "code",
   "execution_count": 216,
   "metadata": {},
   "outputs": [
    {
     "data": {
      "image/png": "[encoded data removed]",
      "text/plain": [
       "<Figure size 432x288 with 1 Axes>"
      ]
     },
     "metadata": {
      "needs_background": "light"
     },
     "output_type": "display_data"
    }
   ],
   "source": [
    "p = tc.peaks_bandwidth(o,n=100,m = 30,level=0.7)\n",
    "p&= o >0.15\n",
    "rat = tc.all_peaks_ratios(p,freqs,max_n_peaks = 40)\n",
    "tc.plot_ratios_histogram(1/rat[1/rat<3.2],bins=24,r=[1,2,3,4,5])\n",
    "plt.savefig(os.path.join(fig_save_folder,\"3-decode-ratios-distrib-speechlogspec.pdf\"))"
   ]
  },
  {
   "cell_type": "code",
   "execution_count": 303,
   "metadata": {},
   "outputs": [
    {
     "data": {
      "application/vnd.jupyter.widget-view+json": {
       "model_id": "835682cc3d6e4349a2fb87cc8b864e06",
       "version_major": 2,
       "version_minor": 0
      },
      "text/plain": [
       "interactive(children=(IntSlider(value=32, description='channel', max=64), IntSlider(value=6, description='pos'…"
      ]
     },
     "metadata": {},
     "output_type": "display_data"
    }
   ],
   "source": [
    "channel = 29\n",
    "pos = 10\n",
    "n = 60\n",
    "m = 20\n",
    "l = 1.4\n",
    "curve = r[channel,pos]\n",
    "p_ = p[channel,pos]\n",
    "thres = np.zeros(curve.shape[0])\n",
    "for ind in np.where(p_)[0]:\n",
    "    thres[ind - n:ind + n] = curve[ind]/l\n",
    "    thres[ind - m:ind + m] = curve[ind]\n",
    "    \n",
    "@interact\n",
    "def plot(channel = (0,r.shape[0],1),pos = (0,r.shape[1],1)):\n",
    "    n=5000\n",
    "    plt.figure()\n",
    "    plt.plot(freqs[:n],r[channel,pos,:n])\n",
    "    plt.plot(freqs[:n],r[channel,pos,:n].max()*p[channel,pos,:n])\n",
    "#     plt.plot(freqs[:n],thres[:n])\n",
    "\n",
    "\n",
    "    plt.title(f'channel {channel}/{r.shape[0]} response\\n Peaks at {freqs[:n][p[channel,pos,:n]]}')\n",
    "    plt.xlabel(f'frequencies')\n",
    "    plt.ylabel('response')"
   ]
  },
  {
   "cell_type": "code",
   "execution_count": 214,
   "metadata": {},
   "outputs": [
    {
     "data": {
      "image/png": "[encoded data removed]",
      "text/plain": [
       "<Figure size 432x288 with 1 Axes>"
      ]
     },
     "metadata": {
      "needs_background": "light"
     },
     "output_type": "display_data"
    }
   ],
   "source": [
    "p = tc.peaks_bandwidth(o2,n=80,m = 20,level=0.6)\n",
    "p&= o2>0.0\n",
    "rat = tc.all_peaks_ratios(p,freqs,max_n_peaks = 30)\n",
    "tc.plot_ratios_histogram(1/rat[1/rat<3.2],bins=24,r=[1,2,3,4,5])\n",
    "plt.savefig(os.path.join(fig_save_folder,\"3-out-ratios-distrib-speechlogspec.pdf\"))"
   ]
  },
  {
   "cell_type": "code",
   "execution_count": null,
   "metadata": {},
   "outputs": [],
   "source": [
    "@interact\n",
    "def viz_in_out(i=(0,x.shape[0]-1,1)):\n",
    "    \n",
    "    f, axarr = plt.subplots(1,2,figsize=(10,10))\n",
    "    axarr[0].imshow(x[i,0].cpu().numpy())\n",
    "    axarr[1].imshow(out[i,0].cpu().numpy())\n",
    "    print(x[i].max())\n",
    "    print(out[i].max())"
   ]
  },
  {
   "cell_type": "code",
   "execution_count": 56,
   "metadata": {},
   "outputs": [],
   "source": [
    "import seaborn as sns"
   ]
  },
  {
   "cell_type": "code",
   "execution_count": 57,
   "metadata": {},
   "outputs": [
    {
     "data": {
      "text/plain": [
       "<matplotlib.axes._subplots.AxesSubplot at 0x7f8d83196710>"
      ]
     },
     "execution_count": 57,
     "metadata": {},
     "output_type": "execute_result"
    },
    {
     "data": {
      "image/png": "[encoded data removed]",
      "text/plain": [
       "<Figure size 432x288 with 1 Axes>"
      ]
     },
     "metadata": {
      "needs_background": "light"
     },
     "output_type": "display_data"
    }
   ],
   "source": [
    "sns.distplot(r.reshape(-1,1997).max(axis=1))"
   ]
  },
  {
   "cell_type": "code",
   "execution_count": null,
   "metadata": {},
   "outputs": [],
   "source": [
    "r.max(axis=1).shape"
   ]
  },
  {
   "cell_type": "code",
   "execution_count": 224,
   "metadata": {},
   "outputs": [],
   "source": [
    "def peaks(arr, n, threshold=None, percentile=80):\n",
    "    out_arr = np.zeros(arr.shape,dtype=bool)\n",
    "    if threshold is None and percentile is not None:\n",
    "        print(percentile)\n",
    "        # find threshold from distribution percentile\n",
    "        threshold=np.percentile(arr[arr>0.01], percentile)\n",
    "    if threshold is not None:\n",
    "        print(f'threshold:{threshold}')\n",
    "        out_arr[..., n+1:-(n+1)]=arr[..., n+1:-(n+1)] > threshold\n",
    "    else:\n",
    "        out_arr[..., n+1:-(n+1)] = True\n",
    "    for i in range(1, n):\n",
    "        out_arr[..., n+1:-(n+1)] &= (arr[..., n+1:-(n+1)] > arr[..., n+1-i:-(n+1)-i])\n",
    "        out_arr[..., n+1:-(n+1)] &= (arr[..., n+1:-(n+1)] > arr[..., n+1+i:-(n+1)+i])\n",
    "    return out_arr\n",
    "\n",
    "\n",
    "def plot_ratios_histogram(ratios,bins=25,alpha=0.5,save_file=None,xlabel='Peaks ratios', r = [0,1,2,3,4,5]):\n",
    "    plt.figure()\n",
    "    ret = plt.hist(ratios,bins=bins,alpha = alpha)\n",
    "    plt.xlabel(xlabel)\n",
    "    plt.ylabel('Count')\n",
    "    \n",
    "    if ratios[0]<1:        \n",
    "        plt.axvline(x=0.5,color = 'r',linestyle = '--', alpha = 0.8,label='1:2')\n",
    "        plt.axvline(x=0.66,color= 'g',linestyle = '--', alpha = 0.8,label='2:3')\n",
    "        plt.axvline(x=0.4,color= 'b',linestyle = '--', alpha = 0.8,label='2:5')\n",
    "        plt.axvline(x=0.8,color= 'm',linestyle = '--', alpha = 0.8,label='4:5')\n",
    "        plt.axvline(x=0.33,color= 'k',linestyle = '--', alpha = 0.8,label='1:3')\n",
    "\n",
    "        \n",
    "    else:\n",
    "        if 0 in r:\n",
    "            plt.axvline(x=1.25,color= 'm',linestyle = '--', alpha = 0.8,label='4:5')\n",
    "        if 1 in r:\n",
    "            plt.axvline(x=1.33,color= 'k',linestyle = '--', alpha = 0.8,label='3:4')\n",
    "        if 2 in r:\n",
    "            plt.axvline(x=1.5,color= 'g',linestyle = '--', alpha = 0.8,label='2:3')\n",
    "        if 3 in r:\n",
    "            plt.axvline(x=2,color = 'r',linestyle = '--', alpha = 0.8,label='1:2')\n",
    "        if 4 in r:\n",
    "            plt.axvline(x=2.5,color= 'b',linestyle = '--', alpha = 0.8,label='2:5')\n",
    "        if 5 in r:\n",
    "            plt.axvline(x=3,color= 'k',linestyle = '--', alpha = 0.8,label='1:3')\n",
    "        \n",
    "\n",
    "    plt.legend()\n",
    "    if save_file:\n",
    "        plt.savefig(save_file)\n",
    "        plt.close()\n",
    "    return ret"
   ]
  },
  {
   "cell_type": "code",
   "execution_count": 61,
   "metadata": {},
   "outputs": [],
   "source": [
    "# norm_r = r/r.max(axis=-1)[:,None]\n",
    "n=-1\n",
    "r2 = r[...,:n]\n",
    "p = peaks(r2,n=10,percentile=None)\n",
    "p &= r2>(1.2*r2[...,-1][:,:,None])"
   ]
  },
  {
   "cell_type": "code",
   "execution_count": 95,
   "metadata": {},
   "outputs": [
    {
     "name": "stdout",
     "output_type": "stream",
     "text": [
      "80\n",
      "threshold:0.27678146958351135\n"
     ]
    }
   ],
   "source": [
    "p = peaks(r,n=30,percentile = 80)\n",
    "p &= r > 0.8"
   ]
  },
  {
   "cell_type": "code",
   "execution_count": 77,
   "metadata": {},
   "outputs": [],
   "source": [
    "po = peaks(o,n=20,percentile = None)"
   ]
  },
  {
   "cell_type": "code",
   "execution_count": 56,
   "metadata": {},
   "outputs": [
    {
     "data": {
      "application/vnd.jupyter.widget-view+json": {
       "model_id": "2f6f6395e967447789431a708e55c46d",
       "version_major": 2,
       "version_minor": 0
      },
      "text/plain": [
       "interactive(children=(IntSlider(value=32, description='channel', max=64), IntSlider(value=6, description='pos'…"
      ]
     },
     "metadata": {},
     "output_type": "display_data"
    }
   ],
   "source": [
    "@interact\n",
    "def plot(channel = (0,r.shape[0],1),pos = (0,r.shape[1],1)):\n",
    "    n=1500\n",
    "    plt.figure()\n",
    "    plt.plot(freqs[:n],r[channel,pos,:n])\n",
    "    plt.plot(freqs[:n],p[channel,pos,:n])\n",
    "    \n",
    "#     plt.axis([None, None, m, M])\n",
    "\n",
    "    plt.title(f'channel {channel}/{r.shape[0]} response\\n Peaks at {freqs[:n][p[channel,pos,:n]]}')\n",
    "    plt.xlabel(f'frequencies',fontsize=16)\n",
    "    plt.ylabel('response',fontsize=16)"
   ]
  },
  {
   "cell_type": "code",
   "execution_count": 78,
   "metadata": {},
   "outputs": [
    {
     "data": {
      "application/vnd.jupyter.widget-view+json": {
       "model_id": "b8fdb3ae267c473bb1e86e47b63445a7",
       "version_major": 2,
       "version_minor": 0
      },
      "text/plain": [
       "interactive(children=(IntSlider(value=16, description='channel', max=32), IntSlider(value=96, description='pos…"
      ]
     },
     "metadata": {},
     "output_type": "display_data"
    }
   ],
   "source": [
    "@interact\n",
    "def plot(channel = (0,o.shape[0],1),pos = (0,o.shape[1],1)):\n",
    "    n=1500\n",
    "    plt.figure()\n",
    "    plt.plot(freqs[:n],o[channel,pos,:n])\n",
    "    plt.plot(freqs[:n],po[channel,pos,:n])\n",
    "    \n",
    "#     plt.axis([None, None, m, M])\n",
    "\n",
    "    plt.title(f'channel {channel}/{o.shape[0]} response\\n Peaks at {freqs[:n][po[channel,pos,:n]]}')\n",
    "    plt.xlabel(f'frequencies')\n",
    "    plt.ylabel('response')"
   ]
  },
  {
   "cell_type": "code",
   "execution_count": 97,
   "metadata": {},
   "outputs": [],
   "source": [
    "ratios = tc.all_peaks_ratios(peaks_arr=p,freqs_arr=freqs,max_n_peaks=30)"
   ]
  },
  {
   "cell_type": "code",
   "execution_count": 98,
   "metadata": {},
   "outputs": [
    {
     "data": {
      "text/plain": [
       "(array([1496., 1838., 1348., 1095., 1013.,  621.,  789.,  642.,  529.,\n",
       "         492.,  569.,  512.,  363.,  411.,  449.,  473.,  297.,  400.,\n",
       "         250.,  229.,  310.,  305.,  233.,  209.,  198.,  302.,  145.,\n",
       "         284.,  149.,  255.,  151.]),\n",
       " array([1.02071197, 1.08449818, 1.14828438, 1.21207059, 1.27585679,\n",
       "        1.33964299, 1.4034292 , 1.4672154 , 1.5310016 , 1.59478781,\n",
       "        1.65857401, 1.72236022, 1.78614642, 1.84993262, 1.91371883,\n",
       "        1.97750503, 2.04129123, 2.10507744, 2.16886364, 2.23264985,\n",
       "        2.29643605, 2.36022225, 2.42400846, 2.48779466, 2.55158086,\n",
       "        2.61536707, 2.67915327, 2.74293948, 2.80672568, 2.87051188,\n",
       "        2.93429809, 2.99808429]),\n",
       " <a list of 31 Patch objects>)"
      ]
     },
     "execution_count": 98,
     "metadata": {},
     "output_type": "execute_result"
    },
    {
     "data": {
      "image/png": "[encoded data removed]",
      "text/plain": [
       "<Figure size 432x288 with 1 Axes>"
      ]
     },
     "metadata": {
      "needs_background": "light"
     },
     "output_type": "display_data"
    }
   ],
   "source": [
    "plot_ratios_histogram((1/ratios)[(1/ratios)<3],bins = 31)"
   ]
  },
  {
   "cell_type": "code",
   "execution_count": 85,
   "metadata": {},
   "outputs": [],
   "source": [
    "ratioso = tc.all_peaks_ratios(peaks_arr=po,freqs_arr=freqs,max_n_peaks=5)"
   ]
  },
  {
   "cell_type": "code",
   "execution_count": 88,
   "metadata": {},
   "outputs": [
    {
     "data": {
      "text/plain": [
       "(array([ 66.,  33.,  38.,  55.,  28., 156.,  98.,  44.,  24.,  16.,  25.,\n",
       "         12.,  17.,  20.,  14.,  34.,  12.,   4.,   8.,  21.,  50.,  73.,\n",
       "         26.,   2.,   9.,  19.,  17.,  11.,   6.,   2.,   9.]),\n",
       " array([1.15008881, 1.20937704, 1.26866527, 1.3279535 , 1.38724173,\n",
       "        1.44652996, 1.50581819, 1.56510642, 1.62439465, 1.68368288,\n",
       "        1.74297111, 1.80225934, 1.86154757, 1.92083581, 1.98012404,\n",
       "        2.03941227, 2.0987005 , 2.15798873, 2.21727696, 2.27656519,\n",
       "        2.33585342, 2.39514165, 2.45442988, 2.51371811, 2.57300634,\n",
       "        2.63229457, 2.6915828 , 2.75087103, 2.81015926, 2.86944749,\n",
       "        2.92873572, 2.98802395]),\n",
       " <a list of 31 Patch objects>)"
      ]
     },
     "execution_count": 88,
     "metadata": {},
     "output_type": "execute_result"
    },
    {
     "data": {
      "image/png": "[encoded data removed]",
      "text/plain": [
       "<Figure size 432x288 with 1 Axes>"
      ]
     },
     "metadata": {
      "needs_background": "light"
     },
     "output_type": "display_data"
    }
   ],
   "source": [
    "plot_ratios_histogram((1/ratioso)[((1/ratioso)<3) & ((1/ratioso)>1.15) ],bins = 31)"
   ]
  },
  {
   "cell_type": "code",
   "execution_count": null,
   "metadata": {},
   "outputs": [],
   "source": [
    "len(ratios)"
   ]
  },
  {
   "cell_type": "code",
   "execution_count": 67,
   "metadata": {},
   "outputs": [],
   "source": [
    "a = r[(r>0).sum(axis=1)>0]"
   ]
  },
  {
   "cell_type": "code",
   "execution_count": 69,
   "metadata": {},
   "outputs": [
    {
     "data": {
      "application/vnd.jupyter.widget-view+json": {
       "model_id": "439057ff8db04db3a174a91ad5b223f6",
       "version_major": 2,
       "version_minor": 0
      },
      "text/plain": [
       "interactive(children=(IntSlider(value=12, description='channel', max=24), Output()), _dom_classes=('widget-int…"
      ]
     },
     "metadata": {},
     "output_type": "display_data"
    }
   ],
   "source": [
    "@interact\n",
    "def scat_plot(channel = (0,a.shape[0]-1,1)):\n",
    "    plt.figure()\n",
    "    plt.plot(freqs,r[channel])\n",
    "#     plt.axis([None, None, m, M])\n",
    "\n",
    "    plt.title(f'channel {channel}/{a.shape[0]} response ')\n",
    "    plt.xlabel(f'frequencies')\n",
    "    plt.ylabel('response')"
   ]
  },
  {
   "cell_type": "code",
   "execution_count": null,
   "metadata": {},
   "outputs": [],
   "source": []
  },
  {
   "cell_type": "markdown",
   "metadata": {},
   "source": [
    "# Single peaked units - Modulation"
   ]
  },
  {
   "cell_type": "code",
   "execution_count": 84,
   "metadata": {},
   "outputs": [],
   "source": [
    "idx_sp = p.sum(axis=-1)==1\n",
    "r_sp = r[p.sum(axis=-1)==1]\n",
    "r_mf_sp = r_mf[p.sum(axis=-1)==1]\n",
    "p_sp = p[p.sum(axis=-1)==1]"
   ]
  },
  {
   "cell_type": "code",
   "execution_count": 85,
   "metadata": {},
   "outputs": [
    {
     "data": {
      "text/plain": [
       "(64, 12)"
      ]
     },
     "execution_count": 85,
     "metadata": {},
     "output_type": "execute_result"
    }
   ],
   "source": [
    "idx_sp.shape"
   ]
  },
  {
   "cell_type": "code",
   "execution_count": 86,
   "metadata": {},
   "outputs": [],
   "source": [
    "sp_pos = np.array(np.where(idx_sp)).T"
   ]
  },
  {
   "cell_type": "code",
   "execution_count": 87,
   "metadata": {},
   "outputs": [
    {
     "data": {
      "text/plain": [
       "(200, 2)"
      ]
     },
     "execution_count": 87,
     "metadata": {},
     "output_type": "execute_result"
    }
   ],
   "source": [
    "sp_pos.shape"
   ]
  },
  {
   "cell_type": "code",
   "execution_count": 89,
   "metadata": {
    "scrolled": true
   },
   "outputs": [
    {
     "data": {
      "application/vnd.jupyter.widget-view+json": {
       "model_id": "e903236608bd4d4987a8404d9d02a7b5",
       "version_major": 2,
       "version_minor": 0
      },
      "text/plain": [
       "interactive(children=(IntSlider(value=99, description='i', max=199), Output()), _dom_classes=('widget-interact…"
      ]
     },
     "metadata": {},
     "output_type": "display_data"
    },
    {
     "data": {
      "image/png": "[encoded data removed]",
      "text/plain": [
       "<Figure size 432x288 with 1 Axes>"
      ]
     },
     "metadata": {
      "needs_background": "light"
     },
     "output_type": "display_data"
    }
   ],
   "source": [
    "@interact\n",
    "def plot(i = (0,sp_pos.shape[0]-1,1 )):\n",
    "    plt.plot(freqs[:2000],r[tuple(sp_pos[i])][:2000])\n",
    "    plt.plot(freqs[:2000],p[tuple(sp_pos[i])][:2000])\n",
    "    print(freqs[p[tuple(sp_pos[i])]])"
   ]
  },
  {
   "cell_type": "code",
   "execution_count": 298,
   "metadata": {},
   "outputs": [
    {
     "data": {
      "text/plain": [
       "(2100,)"
      ]
     },
     "execution_count": 298,
     "metadata": {},
     "output_type": "execute_result"
    }
   ],
   "source": [
    "r[tuple(sp_pos[0])].shape"
   ]
  },
  {
   "cell_type": "code",
   "execution_count": 295,
   "metadata": {},
   "outputs": [
    {
     "data": {
      "text/plain": [
       "array([0, 3])"
      ]
     },
     "execution_count": 295,
     "metadata": {},
     "output_type": "execute_result"
    }
   ],
   "source": [
    "sp_pos[0]"
   ]
  },
  {
   "cell_type": "code",
   "execution_count": 297,
   "metadata": {},
   "outputs": [
    {
     "data": {
      "text/plain": [
       "(2100,)"
      ]
     },
     "execution_count": 297,
     "metadata": {},
     "output_type": "execute_result"
    }
   ],
   "source": [
    "r[(0,3)].shape"
   ]
  },
  {
   "cell_type": "code",
   "execution_count": 294,
   "metadata": {},
   "outputs": [
    {
     "data": {
      "text/plain": [
       "(64, 12, 2100)"
      ]
     },
     "execution_count": 294,
     "metadata": {},
     "output_type": "execute_result"
    }
   ],
   "source": [
    "r.shape"
   ]
  },
  {
   "cell_type": "code",
   "execution_count": 275,
   "metadata": {},
   "outputs": [],
   "source": [
    "cfs = np.concatenate([freqs[p_sp[i]] for i in range(p_sp.shape[0])])"
   ]
  },
  {
   "cell_type": "code",
   "execution_count": 222,
   "metadata": {},
   "outputs": [
    {
     "data": {
      "text/plain": [
       "(155,)"
      ]
     },
     "execution_count": 222,
     "metadata": {},
     "output_type": "execute_result"
    }
   ],
   "source": [
    "cfs.shape"
   ]
  },
  {
   "cell_type": "code",
   "execution_count": 223,
   "metadata": {},
   "outputs": [],
   "source": [
    "import seaborn as sns"
   ]
  },
  {
   "cell_type": "code",
   "execution_count": 251,
   "metadata": {},
   "outputs": [
    {
     "data": {
      "text/plain": [
       "<matplotlib.axes._subplots.AxesSubplot at 0x7fe3d00c9dd8>"
      ]
     },
     "execution_count": 251,
     "metadata": {},
     "output_type": "execute_result"
    },
    {
     "data": {
      "image/png": "[encoded data removed]",
      "text/plain": [
       "<Figure size 432x288 with 1 Axes>"
      ]
     },
     "metadata": {
      "needs_background": "light"
     },
     "output_type": "display_data"
    }
   ],
   "source": [
    "sns.distplot(cfs[cfs<600],bins = 50,kde=False)"
   ]
  },
  {
   "cell_type": "code",
   "execution_count": 248,
   "metadata": {},
   "outputs": [
    {
     "data": {
      "text/plain": [
       "array([177, 187, 177, 183])"
      ]
     },
     "execution_count": 248,
     "metadata": {},
     "output_type": "execute_result"
    }
   ],
   "source": [
    "cfs[(cfs>175)&(cfs < 190)]"
   ]
  },
  {
   "cell_type": "code",
   "execution_count": 276,
   "metadata": {},
   "outputs": [
    {
     "data": {
      "text/plain": [
       "array([316, 325, 324, 316, 318, 325])"
      ]
     },
     "execution_count": 276,
     "metadata": {},
     "output_type": "execute_result"
    }
   ],
   "source": [
    "cfs[(cfs>=310)&(cfs <= 330)]"
   ]
  },
  {
   "cell_type": "code",
   "execution_count": 63,
   "metadata": {},
   "outputs": [
    {
     "data": {
      "text/plain": [
       "(155, 2100)"
      ]
     },
     "execution_count": 63,
     "metadata": {},
     "output_type": "execute_result"
    }
   ],
   "source": [
    "p_sp.shape"
   ]
  },
  {
   "cell_type": "code",
   "execution_count": 60,
   "metadata": {},
   "outputs": [
    {
     "data": {
      "text/plain": [
       "(155, 2100)"
      ]
     },
     "execution_count": 60,
     "metadata": {},
     "output_type": "execute_result"
    }
   ],
   "source": [
    "p_sp.shape"
   ]
  },
  {
   "cell_type": "code",
   "execution_count": 61,
   "metadata": {},
   "outputs": [
    {
     "data": {
      "text/plain": [
       "(2100,)"
      ]
     },
     "execution_count": 61,
     "metadata": {},
     "output_type": "execute_result"
    }
   ],
   "source": [
    "freqs.shape"
   ]
  },
  {
   "cell_type": "markdown",
   "metadata": {},
   "source": [
    "## CF at 187Hz"
   ]
  },
  {
   "cell_type": "markdown",
   "metadata": {},
   "source": [
    "### Two-tone stimuli"
   ]
  },
  {
   "cell_type": "code",
   "execution_count": 227,
   "metadata": {},
   "outputs": [],
   "source": [
    "from common.spectrogram import Spectrogrammer"
   ]
  },
  {
   "cell_type": "code",
   "execution_count": 228,
   "metadata": {},
   "outputs": [],
   "source": [
    "window = 6000\n",
    "sr = 44100\n",
    "n_octaves = 10\n",
    "k_per_octave = 24\n",
    "low = 20\n",
    "stride = 168 # To obtain 250frame per sec\n",
    "\n",
    "spec_trans = Spectrogrammer(window=window,sr = sr,n_octaves = n_octaves,k_per_octave = k_per_octave,low=low,stride = stride)"
   ]
  },
  {
   "cell_type": "code",
   "execution_count": 229,
   "metadata": {},
   "outputs": [],
   "source": [
    "from common import stimulus"
   ]
  },
  {
   "cell_type": "code",
   "execution_count": 230,
   "metadata": {},
   "outputs": [],
   "source": [
    "cf_tone = stimulus.pure_tone(freq=187,window=8820,sr=44100)"
   ]
  },
  {
   "cell_type": "code",
   "execution_count": 231,
   "metadata": {},
   "outputs": [
    {
     "data": {
      "text/plain": [
       "<matplotlib.image.AxesImage at 0x7fe31e54b6d8>"
      ]
     },
     "execution_count": 231,
     "metadata": {},
     "output_type": "execute_result"
    },
    {
     "data": {
      "image/png": "[encoded data removed]",
      "text/plain": [
       "<Figure size 432x288 with 1 Axes>"
      ]
     },
     "metadata": {
      "needs_background": "light"
     },
     "output_type": "display_data"
    }
   ],
   "source": [
    "plt.imshow(spec_trans((cf_tone +stimulus.pure_tone(freq=250,window=8820,sr=44100) )[None,:])[0])"
   ]
  },
  {
   "cell_type": "code",
   "execution_count": 232,
   "metadata": {},
   "outputs": [
    {
     "data": {
      "text/plain": [
       "<matplotlib.image.AxesImage at 0x7fe2e4783208>"
      ]
     },
     "execution_count": 232,
     "metadata": {},
     "output_type": "execute_result"
    },
    {
     "data": {
      "image/png": "[encoded data removed]",
      "text/plain": [
       "<Figure size 432x288 with 1 Axes>"
      ]
     },
     "metadata": {
      "needs_background": "light"
     },
     "output_type": "display_data"
    }
   ],
   "source": [
    "plt.imshow(spec_trans(cf_tone[None,:])[0])"
   ]
  },
  {
   "cell_type": "code",
   "execution_count": 233,
   "metadata": {},
   "outputs": [],
   "source": [
    "resp_code = []\n",
    "frequencies = [] \n",
    "outs = []\n",
    "ins = []\n",
    "\n",
    "encoder.eval()\n",
    "decoder.eval()\n",
    "\n",
    "for batch in range(100):\n",
    "    spec_batch = []\n",
    "    for f in range(20+batch*50,70+batch*50,1):\n",
    "        frequencies.append(f)\n",
    "        tone = 0.5 * (cf_tone + stimulus.pure_tone(freq=f,window=8820,sr=44100))\n",
    "        \n",
    "        spec_batch.append(spec_trans(tone[None,:]))\n",
    "\n",
    "    spec_batch = torch.stack(spec_batch)[:,0]\n",
    "    x = spec_batch.type(torch.FloatTensor).unsqueeze(1).to(device)\n",
    "    x = x[...,:232,0:10]\n",
    "    M = x.max(axis=2).values.max(axis=1).values[:,None,None]\n",
    "    m = x.min(axis=2).values.min(axis=1).values[:,None,None]\n",
    "    x = (x-m)/(M-m)\n",
    "\n",
    "    code = encoder.layers[0](x)     \n",
    "    #     code = torch.relu(code)\n",
    "\n",
    "    code = encoder.layers[1](code)\n",
    "    code = torch.relu(code)\n",
    "\n",
    "    code = encoder.layers[2](code)\n",
    "    #     code = torch.relu(code)\n",
    "\n",
    "    code = encoder.layers[3](code)\n",
    "    code = torch.relu(code)\n",
    "\n",
    "    resp_code.append(code[...,0].cpu().data.numpy())\n",
    "\n",
    "\n",
    "    out = decoder.layers[0](code)\n",
    "    out = torch.relu(out)\n",
    "\n",
    "    out = decoder.layers[1](out)\n",
    "    out = torch.relu(out)\n",
    "\n",
    "    outs.append(out[...,0].cpu().data.numpy())\n",
    "\n",
    "    out = decoder.layers[2](out)\n",
    "    out = torch.relu(out)\n",
    "\n",
    "    out = decoder.layers[3](out)\n",
    "    out = torch.sigmoid(out)\n",
    "\n",
    "    outs2.append(out[...,0].cpu().data.numpy())\n",
    "\n",
    "\n",
    "    ins.append(x[...,0].cpu().data.numpy())\n",
    "#     if i == 20 :\n",
    "#         break\n",
    "\n",
    "            \n",
    "s_2tones = np.vstack(ins)       \n",
    "\n",
    "s_2tones = np.moveaxis(s_2tones,0,-1)\n",
    "\n",
    "r_2tones = np.vstack(resp_code)\n",
    "o_2tones = np.vstack(outs)\n",
    "o2_2tones = np.vstack(outs2)\n",
    "\n",
    "freqs2tones = np.array(frequencies)\n",
    "\n",
    "r_2tones = np.moveaxis(r_2tones,0,-1)\n",
    "o_2tones = np.moveaxis(o_2tones,0,-1)\n",
    "o2_2tones = np.moveaxis(o2_2tones,0,-1)"
   ]
  },
  {
   "cell_type": "code",
   "execution_count": 126,
   "metadata": {},
   "outputs": [
    {
     "data": {
      "text/plain": [
       "torch.Size([50, 1, 232, 0])"
      ]
     },
     "execution_count": 126,
     "metadata": {},
     "output_type": "execute_result"
    }
   ],
   "source": [
    "x.shape"
   ]
  },
  {
   "cell_type": "code",
   "execution_count": 123,
   "metadata": {},
   "outputs": [
    {
     "data": {
      "text/plain": [
       "<matplotlib.image.AxesImage at 0x7fe32c04c5f8>"
      ]
     },
     "execution_count": 123,
     "metadata": {},
     "output_type": "execute_result"
    },
    {
     "data": {
      "image/png": "[encoded data removed]",
      "text/plain": [
       "<Figure size 432x288 with 1 Axes>"
      ]
     },
     "metadata": {
      "needs_background": "light"
     },
     "output_type": "display_data"
    }
   ],
   "source": [
    "plt.imshow(spec_batch[49,0])"
   ]
  },
  {
   "cell_type": "code",
   "execution_count": 129,
   "metadata": {},
   "outputs": [
    {
     "data": {
      "text/plain": [
       "(64, 12, 10000)"
      ]
     },
     "execution_count": 129,
     "metadata": {},
     "output_type": "execute_result"
    }
   ],
   "source": [
    "r_2tones.shape"
   ]
  },
  {
   "cell_type": "code",
   "execution_count": null,
   "metadata": {},
   "outputs": [],
   "source": [
    "plt.imshow()"
   ]
  },
  {
   "cell_type": "code",
   "execution_count": 178,
   "metadata": {},
   "outputs": [],
   "source": [
    "idx = np.where(idx_sp)"
   ]
  },
  {
   "cell_type": "code",
   "execution_count": 148,
   "metadata": {},
   "outputs": [
    {
     "ename": "TypeError",
     "evalue": "tuple indices must be integers or slices, not tuple",
     "output_type": "error",
     "traceback": [
      "\u001b[0;31m---------------------------------------------------------------------------\u001b[0m",
      "\u001b[0;31mTypeError\u001b[0m                                 Traceback (most recent call last)",
      "\u001b[0;32m<ipython-input-148-0ab4f4e8caee>\u001b[0m in \u001b[0;36m<module>\u001b[0;34m\u001b[0m\n\u001b[0;32m----> 1\u001b[0;31m \u001b[0midx\u001b[0m\u001b[0;34m[\u001b[0m\u001b[0;34m:\u001b[0m\u001b[0;34m,\u001b[0m\u001b[0;36m0\u001b[0m\u001b[0;34m]\u001b[0m\u001b[0;34m\u001b[0m\u001b[0;34m\u001b[0m\u001b[0m\n\u001b[0m",
      "\u001b[0;31mTypeError\u001b[0m: tuple indices must be integers or slices, not tuple"
     ]
    }
   ],
   "source": [
    "idx[:,0]"
   ]
  },
  {
   "cell_type": "code",
   "execution_count": 234,
   "metadata": {},
   "outputs": [],
   "source": [
    "idx_187 = [[idx[0][i],idx[1][i]] for i in np.where((cfs == 186) |(cfs == 187))[0]]"
   ]
  },
  {
   "cell_type": "code",
   "execution_count": 235,
   "metadata": {},
   "outputs": [
    {
     "data": {
      "text/plain": [
       "[[4, 11], [5, 5], [8, 5], [35, 2], [43, 5], [45, 9], [58, 3]]"
      ]
     },
     "execution_count": 235,
     "metadata": {},
     "output_type": "execute_result"
    }
   ],
   "source": [
    "idx_187"
   ]
  },
  {
   "cell_type": "code",
   "execution_count": 236,
   "metadata": {},
   "outputs": [
    {
     "data": {
      "text/plain": [
       "(64, 12, 5000)"
      ]
     },
     "execution_count": 236,
     "metadata": {},
     "output_type": "execute_result"
    }
   ],
   "source": [
    "r_2tones.shape"
   ]
  },
  {
   "cell_type": "code",
   "execution_count": 237,
   "metadata": {},
   "outputs": [
    {
     "data": {
      "text/plain": [
       "(5000,)"
      ]
     },
     "execution_count": 237,
     "metadata": {},
     "output_type": "execute_result"
    }
   ],
   "source": [
    "freqs2tones.shape"
   ]
  },
  {
   "cell_type": "code",
   "execution_count": 238,
   "metadata": {},
   "outputs": [
    {
     "data": {
      "application/vnd.jupyter.widget-view+json": {
       "model_id": "ae991f927215472484fd2bbd808ce569",
       "version_major": 2,
       "version_minor": 0
      },
      "text/plain": [
       "interactive(children=(IntSlider(value=3, description='i', max=7), Output()), _dom_classes=('widget-interact',)…"
      ]
     },
     "metadata": {},
     "output_type": "display_data"
    }
   ],
   "source": [
    "@interact\n",
    "def plot(i=(0,len(idx_187),1)):\n",
    "    plt.plot((freqs2tones/187)[:1000],r_2tones[idx_187[i][0],idx_187[i][1],:1000])"
   ]
  },
  {
   "cell_type": "code",
   "execution_count": 240,
   "metadata": {},
   "outputs": [
    {
     "data": {
      "text/plain": [
       "[<matplotlib.lines.Line2D at 0x7fe31d8c48d0>]"
      ]
     },
     "execution_count": 240,
     "metadata": {},
     "output_type": "execute_result"
    },
    {
     "data": {
      "image/png": "[encoded data removed]",
      "text/plain": [
       "<Figure size 432x288 with 1 Axes>"
      ]
     },
     "metadata": {
      "needs_background": "light"
     },
     "output_type": "display_data"
    }
   ],
   "source": [
    "i = 0\n",
    "plt.plot(r[idx_187[i][0],idx_187[i][1]])"
   ]
  },
  {
   "cell_type": "code",
   "execution_count": 164,
   "metadata": {},
   "outputs": [
    {
     "ename": "TypeError",
     "evalue": "list indices must be integers or slices, not tuple",
     "output_type": "error",
     "traceback": [
      "\u001b[0;31m---------------------------------------------------------------------------\u001b[0m",
      "\u001b[0;31mTypeError\u001b[0m                                 Traceback (most recent call last)",
      "\u001b[0;32m<ipython-input-164-6eae9eedabf5>\u001b[0m in \u001b[0;36m<module>\u001b[0;34m\u001b[0m\n\u001b[0;32m----> 1\u001b[0;31m \u001b[0midx_187\u001b[0m\u001b[0;34m[\u001b[0m\u001b[0mi\u001b[0m\u001b[0;34m,\u001b[0m\u001b[0;36m0\u001b[0m\u001b[0;34m]\u001b[0m\u001b[0;34m,\u001b[0m\u001b[0midx_187\u001b[0m\u001b[0;34m[\u001b[0m\u001b[0mi\u001b[0m\u001b[0;34m,\u001b[0m\u001b[0;36m0\u001b[0m\u001b[0;34m]\u001b[0m\u001b[0;34m\u001b[0m\u001b[0;34m\u001b[0m\u001b[0m\n\u001b[0m",
      "\u001b[0;31mTypeError\u001b[0m: list indices must be integers or slices, not tuple"
     ]
    }
   ],
   "source": [
    "idx_187[i,0],idx_187[i,0]"
   ]
  },
  {
   "cell_type": "markdown",
   "metadata": {},
   "source": [
    "## CF = 320Hz"
   ]
  },
  {
   "cell_type": "code",
   "execution_count": 256,
   "metadata": {},
   "outputs": [],
   "source": [
    "cf_tone = stimulus.pure_tone(freq=320,window=8820,sr=44100)"
   ]
  },
  {
   "cell_type": "code",
   "execution_count": 257,
   "metadata": {},
   "outputs": [],
   "source": [
    "resp_code = []\n",
    "frequencies = [] \n",
    "outs = []\n",
    "ins = []\n",
    "\n",
    "encoder.eval()\n",
    "decoder.eval()\n",
    "\n",
    "for batch in range(100):\n",
    "    spec_batch = []\n",
    "    for f in range(20+batch*50,70+batch*50,1):\n",
    "        frequencies.append(f)\n",
    "        tone = 0.5 * (cf_tone + stimulus.pure_tone(freq=f,window=8820,sr=44100))\n",
    "        \n",
    "        spec_batch.append(spec_trans(tone[None,:]))\n",
    "\n",
    "    spec_batch = torch.stack(spec_batch)[:,0]\n",
    "    x = spec_batch.type(torch.FloatTensor).unsqueeze(1).to(device)\n",
    "    x = x[...,:232,0:10]\n",
    "    M = x.max(axis=2).values.max(axis=1).values[:,None,None]\n",
    "    m = x.min(axis=2).values.min(axis=1).values[:,None,None]\n",
    "    x = (x-m)/(M-m)\n",
    "\n",
    "    code = encoder.layers[0](x)     \n",
    "    #     code = torch.relu(code)\n",
    "\n",
    "    code = encoder.layers[1](code)\n",
    "    code = torch.relu(code)\n",
    "\n",
    "    code = encoder.layers[2](code)\n",
    "    #     code = torch.relu(code)\n",
    "\n",
    "    code = encoder.layers[3](code)\n",
    "    code = torch.relu(code)\n",
    "\n",
    "    resp_code.append(code[...,0].cpu().data.numpy())\n",
    "\n",
    "\n",
    "    out = decoder.layers[0](code)\n",
    "    out = torch.relu(out)\n",
    "\n",
    "    out = decoder.layers[1](out)\n",
    "    out = torch.relu(out)\n",
    "\n",
    "    outs.append(out[...,0].cpu().data.numpy())\n",
    "\n",
    "    out = decoder.layers[2](out)\n",
    "    out = torch.relu(out)\n",
    "\n",
    "    out = decoder.layers[3](out)\n",
    "    out = torch.sigmoid(out)\n",
    "\n",
    "    outs2.append(out[...,0].cpu().data.numpy())\n",
    "\n",
    "\n",
    "    ins.append(x[...,0].cpu().data.numpy())\n",
    "#     if i == 20 :\n",
    "#         break\n",
    "\n",
    "            \n",
    "s_2tones320 = np.vstack(ins)       \n",
    "\n",
    "s_2tones320 = np.moveaxis(s_2tones320,0,-1)\n",
    "\n",
    "r_2tones320 = np.vstack(resp_code)\n",
    "o_2tones330 = np.vstack(outs)\n",
    "o2_2tones330 = np.vstack(outs2)\n",
    "\n",
    "freqs2tones = np.array(frequencies)\n",
    "\n",
    "r_2tones320 = np.moveaxis(r_2tones320,0,-1)\n",
    "o_2tones330 = np.moveaxis(o_2tones330,0,-1)\n",
    "o2_2tones330 = np.moveaxis(o2_2tones330,0,-1)"
   ]
  },
  {
   "cell_type": "code",
   "execution_count": 271,
   "metadata": {},
   "outputs": [],
   "source": [
    "idx_320 = [[idx[0][i],idx[1][i]] for i in np.where((cfs >= 310) &(cfs <= 330))[0]]"
   ]
  },
  {
   "cell_type": "code",
   "execution_count": 94,
   "metadata": {},
   "outputs": [
    {
     "ename": "NameError",
     "evalue": "name 'idx_320' is not defined",
     "output_type": "error",
     "traceback": [
      "\u001b[0;31m---------------------------------------------------------------------------\u001b[0m",
      "\u001b[0;31mNameError\u001b[0m                                 Traceback (most recent call last)",
      "\u001b[0;32m<ipython-input-94-d68db29d3268>\u001b[0m in \u001b[0;36m<module>\u001b[0;34m\u001b[0m\n\u001b[1;32m      1\u001b[0m \u001b[0;34m@\u001b[0m\u001b[0minteract\u001b[0m\u001b[0;34m\u001b[0m\u001b[0;34m\u001b[0m\u001b[0m\n\u001b[0;32m----> 2\u001b[0;31m \u001b[0;32mdef\u001b[0m \u001b[0mplot\u001b[0m\u001b[0;34m(\u001b[0m\u001b[0mi\u001b[0m\u001b[0;34m=\u001b[0m\u001b[0;34m(\u001b[0m\u001b[0;36m0\u001b[0m\u001b[0;34m,\u001b[0m\u001b[0mlen\u001b[0m\u001b[0;34m(\u001b[0m\u001b[0midx_320\u001b[0m\u001b[0;34m)\u001b[0m\u001b[0;34m-\u001b[0m\u001b[0;36m1\u001b[0m\u001b[0;34m,\u001b[0m\u001b[0;36m1\u001b[0m\u001b[0;34m)\u001b[0m\u001b[0;34m)\u001b[0m\u001b[0;34m:\u001b[0m\u001b[0;34m\u001b[0m\u001b[0;34m\u001b[0m\u001b[0m\n\u001b[0m\u001b[1;32m      3\u001b[0m     \u001b[0mplt\u001b[0m\u001b[0;34m.\u001b[0m\u001b[0mplot\u001b[0m\u001b[0;34m(\u001b[0m\u001b[0;34m(\u001b[0m\u001b[0mfreqs2tones\u001b[0m\u001b[0;34m/\u001b[0m\u001b[0;36m320\u001b[0m\u001b[0;34m)\u001b[0m\u001b[0;34m[\u001b[0m\u001b[0;34m:\u001b[0m\u001b[0;34m]\u001b[0m\u001b[0;34m,\u001b[0m\u001b[0mr_2tones320\u001b[0m\u001b[0;34m[\u001b[0m\u001b[0midx_320\u001b[0m\u001b[0;34m[\u001b[0m\u001b[0mi\u001b[0m\u001b[0;34m]\u001b[0m\u001b[0;34m[\u001b[0m\u001b[0;36m0\u001b[0m\u001b[0;34m]\u001b[0m\u001b[0;34m,\u001b[0m\u001b[0midx_320\u001b[0m\u001b[0;34m[\u001b[0m\u001b[0mi\u001b[0m\u001b[0;34m]\u001b[0m\u001b[0;34m[\u001b[0m\u001b[0;36m1\u001b[0m\u001b[0;34m]\u001b[0m\u001b[0;34m,\u001b[0m\u001b[0;34m:\u001b[0m\u001b[0;34m]\u001b[0m\u001b[0;34m)\u001b[0m\u001b[0;34m\u001b[0m\u001b[0;34m\u001b[0m\u001b[0m\n\u001b[1;32m      4\u001b[0m \u001b[0;31m#     dis_change =  (r_2tones330[idx_330[i][0],idx_330[i][1]] - r[idx_330[i][0],idx_330[i][1]][])\u001b[0m\u001b[0;34m\u001b[0m\u001b[0;34m\u001b[0m\u001b[0;34m\u001b[0m\u001b[0m\n",
      "\u001b[0;31mNameError\u001b[0m: name 'idx_320' is not defined"
     ]
    }
   ],
   "source": [
    "@interact\n",
    "def plot(i=(0,len(idx_320)-1,1)):\n",
    "    plt.plot((freqs2tones/320)[:],r_2tones320[idx_320[i][0],idx_320[i][1],:])\n",
    "#     dis_change =  (r_2tones330[idx_330[i][0],idx_330[i][1]] - r[idx_330[i][0],idx_330[i][1]][])"
   ]
  },
  {
   "cell_type": "code",
   "execution_count": 268,
   "metadata": {},
   "outputs": [
    {
     "data": {
      "text/plain": [
       "(2100,)"
      ]
     },
     "execution_count": 268,
     "metadata": {},
     "output_type": "execute_result"
    }
   ],
   "source": [
    "i = 5\n",
    "r[idx_320[i][0],idx_320[i][1]].shape"
   ]
  },
  {
   "cell_type": "code",
   "execution_count": 270,
   "metadata": {},
   "outputs": [
    {
     "data": {
      "text/plain": [
       "(array([], dtype=int64),)"
      ]
     },
     "execution_count": 270,
     "metadata": {},
     "output_type": "execute_result"
    }
   ],
   "source": [
    "np.where(p[idx_320[i][0],idx_320[i][1]])"
   ]
  },
  {
   "cell_type": "code",
   "execution_count": null,
   "metadata": {},
   "outputs": [],
   "source": [
    "plt.plot()"
   ]
  },
  {
   "cell_type": "code",
   "execution_count": 210,
   "metadata": {},
   "outputs": [
    {
     "data": {
      "text/plain": [
       "(64, 12, 5000)"
      ]
     },
     "execution_count": 210,
     "metadata": {},
     "output_type": "execute_result"
    }
   ],
   "source": [
    "r_2tones.shape"
   ]
  },
  {
   "cell_type": "code",
   "execution_count": 205,
   "metadata": {},
   "outputs": [
    {
     "ename": "IndexError",
     "evalue": "list index out of range",
     "output_type": "error",
     "traceback": [
      "\u001b[0;31m---------------------------------------------------------------------------\u001b[0m",
      "\u001b[0;31mIndexError\u001b[0m                                Traceback (most recent call last)",
      "\u001b[0;32m<ipython-input-205-6efd1e90cc95>\u001b[0m in \u001b[0;36m<module>\u001b[0;34m\u001b[0m\n\u001b[0;32m----> 1\u001b[0;31m \u001b[0midx_330\u001b[0m\u001b[0;34m[\u001b[0m\u001b[0mi\u001b[0m\u001b[0;34m]\u001b[0m\u001b[0;34m[\u001b[0m\u001b[0;36m0\u001b[0m\u001b[0;34m]\u001b[0m\u001b[0;34m,\u001b[0m\u001b[0midx_330\u001b[0m\u001b[0;34m[\u001b[0m\u001b[0mi\u001b[0m\u001b[0;34m]\u001b[0m\u001b[0;34m[\u001b[0m\u001b[0;36m1\u001b[0m\u001b[0;34m]\u001b[0m\u001b[0;34m\u001b[0m\u001b[0;34m\u001b[0m\u001b[0m\n\u001b[0m",
      "\u001b[0;31mIndexError\u001b[0m: list index out of range"
     ]
    }
   ],
   "source": [
    "idx_330[i][0],idx_330[i][1]"
   ]
  },
  {
   "cell_type": "markdown",
   "metadata": {},
   "source": [
    "## CF = 344Hz"
   ]
  },
  {
   "cell_type": "code",
   "execution_count": 307,
   "metadata": {},
   "outputs": [],
   "source": [
    "cf =344#Hz"
   ]
  },
  {
   "cell_type": "code",
   "execution_count": 304,
   "metadata": {},
   "outputs": [
    {
     "data": {
      "text/plain": [
       "(array([  6,  66,  82, 171]),)"
      ]
     },
     "execution_count": 304,
     "metadata": {},
     "output_type": "execute_result"
    }
   ],
   "source": [
    "np.where((cfs<350)&(cfs>330) )"
   ]
  },
  {
   "cell_type": "code",
   "execution_count": 305,
   "metadata": {},
   "outputs": [
    {
     "data": {
      "text/plain": [
       "(array([66, 82]),)"
      ]
     },
     "execution_count": 305,
     "metadata": {},
     "output_type": "execute_result"
    }
   ],
   "source": [
    "np.where(cfs==cf)"
   ]
  },
  {
   "cell_type": "code",
   "execution_count": 306,
   "metadata": {},
   "outputs": [],
   "source": [
    "r_2tones= {}"
   ]
  },
  {
   "cell_type": "code",
   "execution_count": 308,
   "metadata": {},
   "outputs": [],
   "source": [
    "cf_tone = stimulus.pure_tone(freq=cf,window=8820,sr=44100)\n",
    "\n",
    "resp_code = []\n",
    "frequencies = [] \n",
    "outs = []\n",
    "ins = []\n",
    "\n",
    "encoder.eval()\n",
    "decoder.eval()\n",
    "\n",
    "for batch in range(100):\n",
    "    spec_batch = []\n",
    "    for f in range(20+batch*50,70+batch*50,1):\n",
    "        frequencies.append(f)\n",
    "        tone = 0.5 * (cf_tone + stimulus.pure_tone(freq=f,window=8820,sr=44100))\n",
    "        \n",
    "        spec_batch.append(spec_trans(tone[None,:]))\n",
    "\n",
    "    spec_batch = torch.stack(spec_batch)[:,0]\n",
    "    x = spec_batch.type(torch.FloatTensor).unsqueeze(1).to(device)\n",
    "    x = x[...,:232,0:10]\n",
    "    M = x.max(axis=2).values.max(axis=1).values[:,None,None]\n",
    "    m = x.min(axis=2).values.min(axis=1).values[:,None,None]\n",
    "    x = (x-m)/(M-m)\n",
    "\n",
    "    code = encoder.layers[0](x)     \n",
    "    #     code = torch.relu(code)\n",
    "\n",
    "    code = encoder.layers[1](code)\n",
    "    code = torch.relu(code)\n",
    "\n",
    "    code = encoder.layers[2](code)\n",
    "    #     code = torch.relu(code)\n",
    "\n",
    "    code = encoder.layers[3](code)\n",
    "    code = torch.relu(code)\n",
    "\n",
    "    resp_code.append(code[...,0].cpu().data.numpy())\n",
    "\n",
    "\n",
    "    out = decoder.layers[0](code)\n",
    "    out = torch.relu(out)\n",
    "\n",
    "    out = decoder.layers[1](out)\n",
    "    out = torch.relu(out)\n",
    "\n",
    "    outs.append(out[...,0].cpu().data.numpy())\n",
    "\n",
    "    out = decoder.layers[2](out)\n",
    "    out = torch.relu(out)\n",
    "\n",
    "    out = decoder.layers[3](out)\n",
    "    out = torch.sigmoid(out)\n",
    "\n",
    "    outs2.append(out[...,0].cpu().data.numpy())\n",
    "\n",
    "\n",
    "    ins.append(x[...,0].cpu().data.numpy())\n",
    "#     if i == 20 :\n",
    "#         break\n",
    "\n",
    "            \n",
    "# s_2tones320 = np.vstack(ins)       \n",
    "\n",
    "# s_2tones320 = np.moveaxis(s_2tones320,0,-1)\n",
    "\n",
    "r_2tones[cf] = np.vstack(resp_code)\n",
    "# o_2tones330 = np.vstack(outs)\n",
    "# o2_2tones330 = np.vstack(outs2)\n",
    "\n",
    "freqs2tones = np.array(frequencies)\n",
    "\n",
    "r_2tones[cf] = np.moveaxis(r_2tones[cf],0,-1)\n",
    "# o_2tones330 = np.moveaxis(o_2tones330,0,-1)\n",
    "# o2_2tones330 = np.moveaxis(o2_2tones330,0,-1)"
   ]
  },
  {
   "cell_type": "code",
   "execution_count": 311,
   "metadata": {},
   "outputs": [
    {
     "ename": "IndexError",
     "evalue": "boolean index did not match indexed array along dimension 1; dimension is 12 but corresponding boolean dimension is 2100",
     "output_type": "error",
     "traceback": [
      "\u001b[0;31m---------------------------------------------------------------------------\u001b[0m",
      "\u001b[0;31mIndexError\u001b[0m                                Traceback (most recent call last)",
      "\u001b[0;32m<ipython-input-311-325099b83935>\u001b[0m in \u001b[0;36m<module>\u001b[0;34m\u001b[0m\n\u001b[0;32m----> 1\u001b[0;31m \u001b[0mr\u001b[0m\u001b[0;34m[\u001b[0m\u001b[0mtuple\u001b[0m\u001b[0;34m(\u001b[0m\u001b[0msp_pos\u001b[0m\u001b[0;34m[\u001b[0m\u001b[0;36m66\u001b[0m\u001b[0;34m]\u001b[0m\u001b[0;34m)\u001b[0m\u001b[0;34m,\u001b[0m\u001b[0mp\u001b[0m\u001b[0;34m[\u001b[0m\u001b[0mtuple\u001b[0m\u001b[0;34m(\u001b[0m\u001b[0msp_pos\u001b[0m\u001b[0;34m[\u001b[0m\u001b[0;36m66\u001b[0m\u001b[0;34m]\u001b[0m\u001b[0;34m)\u001b[0m\u001b[0;34m]\u001b[0m\u001b[0;34m]\u001b[0m\u001b[0;34m\u001b[0m\u001b[0;34m\u001b[0m\u001b[0m\n\u001b[0m",
      "\u001b[0;31mIndexError\u001b[0m: boolean index did not match indexed array along dimension 1; dimension is 12 but corresponding boolean dimension is 2100"
     ]
    }
   ],
   "source": [
    "r[tuple(sp_pos[66]),p[tuple(sp_pos[66])]]"
   ]
  },
  {
   "cell_type": "code",
   "execution_count": 312,
   "metadata": {},
   "outputs": [
    {
     "data": {
      "text/plain": [
       "(2100,)"
      ]
     },
     "execution_count": 312,
     "metadata": {},
     "output_type": "execute_result"
    }
   ],
   "source": [
    "p[tuple(sp_pos[66])].shape"
   ]
  },
  {
   "cell_type": "code",
   "execution_count": 314,
   "metadata": {},
   "outputs": [
    {
     "data": {
      "text/plain": [
       "array([3.7388911], dtype=float32)"
      ]
     },
     "execution_count": 314,
     "metadata": {},
     "output_type": "execute_result"
    }
   ],
   "source": [
    "r[tuple(sp_pos[66])][p[tuple(sp_pos[66])]]"
   ]
  },
  {
   "cell_type": "code",
   "execution_count": 321,
   "metadata": {},
   "outputs": [],
   "source": [
    "idx = 88\n",
    "dis_rate = (r_2tones[cf][tuple(sp_pos[idx])] - r[tuple(sp_pos[idx])][p[tuple(sp_pos[idx])]][0])/r[tuple(sp_pos[idx])][p[tuple(sp_pos[idx])]][0]"
   ]
  },
  {
   "cell_type": "code",
   "execution_count": 326,
   "metadata": {},
   "outputs": [
    {
     "data": {
      "text/plain": [
       "Text(0.5, 0, 'Normalized frequency f/CF, CF = 729Hz')"
      ]
     },
     "execution_count": 326,
     "metadata": {},
     "output_type": "execute_result"
    },
    {
     "data": {
      "image/png": "[encoded data removed]",
      "text/plain": [
       "<Figure size 432x288 with 1 Axes>"
      ]
     },
     "metadata": {
      "needs_background": "light"
     },
     "output_type": "display_data"
    }
   ],
   "source": [
    "plt.plot(freqs2tones[:2000]/freqs[[p[tuple(sp_pos[idx])]][0]],dis_rate[:2000])\n",
    "plt.xlabel(f'Normalized frequency f/CF, CF = {freqs[[p[tuple(sp_pos[idx])]][0]][0]}Hz')\n",
    "plt.ylabel()"
   ]
  },
  {
   "cell_type": "markdown",
   "metadata": {},
   "source": []
  },
  {
   "cell_type": "code",
   "execution_count": 329,
   "metadata": {},
   "outputs": [
    {
     "data": {
      "text/plain": [
       "<matplotlib.axes._subplots.AxesSubplot at 0x7fe31dd9f710>"
      ]
     },
     "execution_count": 329,
     "metadata": {},
     "output_type": "execute_result"
    },
    {
     "data": {
      "image/png": "[encoded data removed]",
      "text/plain": [
       "<Figure size 432x288 with 1 Axes>"
      ]
     },
     "metadata": {
      "needs_background": "light"
     },
     "output_type": "display_data"
    }
   ],
   "source": [
    "sns.distplot(cfs,bins=30,kde=False)"
   ]
  },
  {
   "cell_type": "code",
   "execution_count": 356,
   "metadata": {},
   "outputs": [
    {
     "data": {
      "application/vnd.jupyter.widget-view+json": {
       "model_id": "8ed4e143c1d1413b98c731586635d206",
       "version_major": 2,
       "version_minor": 0
      },
      "text/plain": [
       "interactive(children=(IntSlider(value=550, description='cf', max=600, min=500), Output()), _dom_classes=('widg…"
      ]
     },
     "metadata": {},
     "output_type": "display_data"
    }
   ],
   "source": [
    "@interact\n",
    "def cff(cf = (500,600,1)):\n",
    "    print(cfs[(cfs<=cf+10) & (cfs >= cf-10)])"
   ]
  },
  {
   "cell_type": "markdown",
   "metadata": {},
   "source": [
    "## CF ~ 800Hz"
   ]
  },
  {
   "cell_type": "code",
   "execution_count": 345,
   "metadata": {},
   "outputs": [],
   "source": [
    "cf =800#Hz\n",
    "towatch[cf] = np.where((cfs>cf-10)&(cfs<cf+10) )[0]\n",
    "\n",
    "cf_tone = stimulus.pure_tone(freq=cf,window=8820,sr=44100)\n",
    "\n",
    "resp_code = []\n",
    "frequencies = [] \n",
    "outs = []\n",
    "ins = []\n",
    "\n",
    "encoder.eval()\n",
    "decoder.eval()\n",
    "\n",
    "for batch in range(100):\n",
    "    spec_batch = []\n",
    "    for f in range(20+batch*50,70+batch*50,1):\n",
    "        frequencies.append(f)\n",
    "        tone = 0.5 * (cf_tone + stimulus.pure_tone(freq=f,window=8820,sr=44100))\n",
    "        \n",
    "        spec_batch.append(spec_trans(tone[None,:]))\n",
    "\n",
    "    spec_batch = torch.stack(spec_batch)[:,0]\n",
    "    x = spec_batch.type(torch.FloatTensor).unsqueeze(1).to(device)\n",
    "    x = x[...,:232,0:10]\n",
    "    M = x.max(axis=2).values.max(axis=1).values[:,None,None]\n",
    "    m = x.min(axis=2).values.min(axis=1).values[:,None,None]\n",
    "    x = (x-m)/(M-m)\n",
    "\n",
    "    code = encoder.layers[0](x)     \n",
    "    #     code = torch.relu(code)\n",
    "\n",
    "    code = encoder.layers[1](code)\n",
    "    code = torch.relu(code)\n",
    "\n",
    "    code = encoder.layers[2](code)\n",
    "    #     code = torch.relu(code)\n",
    "\n",
    "    code = encoder.layers[3](code)\n",
    "    code = torch.relu(code)\n",
    "\n",
    "    resp_code.append(code[...,0].cpu().data.numpy())\n",
    "\n",
    "\n",
    "    out = decoder.layers[0](code)\n",
    "    out = torch.relu(out)\n",
    "\n",
    "    out = decoder.layers[1](out)\n",
    "    out = torch.relu(out)\n",
    "\n",
    "    outs.append(out[...,0].cpu().data.numpy())\n",
    "\n",
    "    out = decoder.layers[2](out)\n",
    "    out = torch.relu(out)\n",
    "\n",
    "    out = decoder.layers[3](out)\n",
    "    out = torch.sigmoid(out)\n",
    "\n",
    "    outs2.append(out[...,0].cpu().data.numpy())\n",
    "\n",
    "\n",
    "    ins.append(x[...,0].cpu().data.numpy())\n",
    "#     if i == 20 :\n",
    "#         break\n",
    "\n",
    "            \n",
    "# s_2tones320 = np.vstack(ins)       \n",
    "\n",
    "# s_2tones320 = np.moveaxis(s_2tones320,0,-1)\n",
    "\n",
    "r_2tones[cf] = np.vstack(resp_code)\n",
    "# o_2tones330 = np.vstack(outs)\n",
    "# o2_2tones330 = np.vstack(outs2)\n",
    "\n",
    "freqs2tones = np.array(frequencies)\n",
    "\n",
    "r_2tones[cf] = np.moveaxis(r_2tones[cf],0,-1)\n",
    "# o_2tones330 = np.moveaxis(o_2tones330,0,-1)\n",
    "# o2_2tones330 = np.moveaxis(o2_2tones330,0,-1)"
   ]
  },
  {
   "cell_type": "code",
   "execution_count": 348,
   "metadata": {},
   "outputs": [],
   "source": [
    "towatch = {cf:towatch}"
   ]
  },
  {
   "cell_type": "code",
   "execution_count": 349,
   "metadata": {},
   "outputs": [
    {
     "data": {
      "application/vnd.jupyter.widget-view+json": {
       "model_id": "aa507234aca74f4aaa23944a5d713d71",
       "version_major": 2,
       "version_minor": 0
      },
      "text/plain": [
       "interactive(children=(IntSlider(value=0, description='i', max=0), Output()), _dom_classes=('widget-interact',)…"
      ]
     },
     "metadata": {},
     "output_type": "display_data"
    }
   ],
   "source": [
    "@interact\n",
    "def plot(i = (0,len(towatch)-1,1)):\n",
    "    idx = tuple(sp_pos[towatch[cf][i]])\n",
    "    cf_response = r[idx][p[idx]][0]\n",
    "    dis_change = (r_2tones[cf][idx] - cf_response)/cf_response\n",
    "    real_cf = freqs[p[idx]][0]\n",
    "    plt.plot(freqs2tones/real_cf, dis_change)"
   ]
  },
  {
   "cell_type": "code",
   "execution_count": 343,
   "metadata": {},
   "outputs": [
    {
     "data": {
      "text/plain": [
       "array([5, 5])"
      ]
     },
     "execution_count": 343,
     "metadata": {},
     "output_type": "execute_result"
    }
   ],
   "source": [
    "sp_pos[towatch[1]]"
   ]
  },
  {
   "cell_type": "code",
   "execution_count": null,
   "metadata": {},
   "outputs": [],
   "source": [
    "dis_rate = (r_2tones[cf][idx] - r[idx][p[idx]][0])/r[tuple(sp_pos[idx])][p[tuple(sp_pos[idx])]][0]"
   ]
  },
  {
   "cell_type": "markdown",
   "metadata": {},
   "source": [
    "## CF = 575Hz"
   ]
  },
  {
   "cell_type": "code",
   "execution_count": 359,
   "metadata": {},
   "outputs": [],
   "source": [
    "cf =575#Hz\n",
    "towatch[cf] = np.where((cfs>=cf-10)&(cfs<=cf+10) )[0]\n",
    "\n",
    "cf_tone = stimulus.pure_tone(freq=cf,window=8820,sr=44100)\n",
    "\n",
    "resp_code = []\n",
    "frequencies = [] \n",
    "outs = []\n",
    "ins = []\n",
    "\n",
    "encoder.eval()\n",
    "decoder.eval()\n",
    "\n",
    "for batch in range(100):\n",
    "    spec_batch = []\n",
    "    for f in range(20+batch*50,70+batch*50,1):\n",
    "        frequencies.append(f)\n",
    "        tone = 0.5 * (cf_tone + stimulus.pure_tone(freq=f,window=8820,sr=44100))\n",
    "        \n",
    "        spec_batch.append(spec_trans(tone[None,:]))\n",
    "\n",
    "    spec_batch = torch.stack(spec_batch)[:,0]\n",
    "    x = spec_batch.type(torch.FloatTensor).unsqueeze(1).to(device)\n",
    "    x = x[...,:232,0:10]\n",
    "    M = x.max(axis=2).values.max(axis=1).values[:,None,None]\n",
    "    m = x.min(axis=2).values.min(axis=1).values[:,None,None]\n",
    "    x = (x-m)/(M-m)\n",
    "\n",
    "    code = encoder.layers[0](x)     \n",
    "    #     code = torch.relu(code)\n",
    "\n",
    "    code = encoder.layers[1](code)\n",
    "    code = torch.relu(code)\n",
    "\n",
    "    code = encoder.layers[2](code)\n",
    "    #     code = torch.relu(code)\n",
    "\n",
    "    code = encoder.layers[3](code)\n",
    "    code = torch.relu(code)\n",
    "\n",
    "    resp_code.append(code[...,0].cpu().data.numpy())\n",
    "\n",
    "\n",
    "    out = decoder.layers[0](code)\n",
    "    out = torch.relu(out)\n",
    "\n",
    "    out = decoder.layers[1](out)\n",
    "    out = torch.relu(out)\n",
    "\n",
    "    outs.append(out[...,0].cpu().data.numpy())\n",
    "\n",
    "    out = decoder.layers[2](out)\n",
    "    out = torch.relu(out)\n",
    "\n",
    "    out = decoder.layers[3](out)\n",
    "    out = torch.sigmoid(out)\n",
    "\n",
    "    outs2.append(out[...,0].cpu().data.numpy())\n",
    "\n",
    "\n",
    "    ins.append(x[...,0].cpu().data.numpy())\n",
    "#     if i == 20 :\n",
    "#         break\n",
    "\n",
    "            \n",
    "# s_2tones320 = np.vstack(ins)       \n",
    "\n",
    "# s_2tones320 = np.moveaxis(s_2tones320,0,-1)\n",
    "\n",
    "r_2tones[cf] = np.vstack(resp_code)\n",
    "# o_2tones330 = np.vstack(outs)\n",
    "# o2_2tones330 = np.vstack(outs2)\n",
    "\n",
    "freqs2tones = np.array(frequencies)\n",
    "\n",
    "r_2tones[cf] = np.moveaxis(r_2tones[cf],0,-1)\n",
    "# o_2tones330 = np.moveaxis(o_2tones330,0,-1)\n",
    "# o2_2tones330 = np.moveaxis(o2_2tones330,0,-1)"
   ]
  },
  {
   "cell_type": "code",
   "execution_count": 379,
   "metadata": {},
   "outputs": [
    {
     "data": {
      "application/vnd.jupyter.widget-view+json": {
       "model_id": "0ec53741fdb44c08a3d8db18b0a66e9b",
       "version_major": 2,
       "version_minor": 0
      },
      "text/plain": [
       "interactive(children=(IntSlider(value=2, description='i', max=5), IntSlider(value=15, description='sigma', max…"
      ]
     },
     "metadata": {},
     "output_type": "display_data"
    },
    {
     "data": {
      "image/png": "[encoded data removed]",
      "text/plain": [
       "<Figure size 432x288 with 1 Axes>"
      ]
     },
     "metadata": {
      "needs_background": "light"
     },
     "output_type": "display_data"
    }
   ],
   "source": [
    "@interact\n",
    "def plot(i = (0,len(towatch[cf])-1,1),sigma=(0,30),window=(0,100)):\n",
    "    maxf = 2000\n",
    "    idx = tuple(sp_pos[towatch[cf][i]])\n",
    "    cf_response = r[idx][p[idx]][0]\n",
    "    dis_change = 100*(r_2tones[cf][idx] - cf_response)/cf_response\n",
    "    real_cf = freqs[p[idx]][0]\n",
    "#     plt.plot(freqs2tones[:maxf]/real_cf, dis_change[:maxf])\n",
    "    plt.plot(freqs2tones[:maxf]/real_cf,tc.smooth_curves(dis_change[None,:],window=window,sigma=sigma)[0][:maxf])\n",
    "    plt.xlabel(f'Normalized frequency f/CF, CF = {freqs[p[idx]][0]}Hz')\n",
    "    plt.ylabel()"
   ]
  },
  {
   "cell_type": "code",
   "execution_count": 365,
   "metadata": {},
   "outputs": [],
   "source": [
    "i=0\n",
    "idx = tuple(sp_pos[towatch[cf][i]])\n",
    "cf_response = r[idx][p[idx]][0]\n",
    "dis_change = 100*(r_2tones[cf][idx] - cf_response)/cf_response"
   ]
  },
  {
   "cell_type": "code",
   "execution_count": 366,
   "metadata": {},
   "outputs": [
    {
     "data": {
      "text/plain": [
       "(5000,)"
      ]
     },
     "execution_count": 366,
     "metadata": {},
     "output_type": "execute_result"
    }
   ],
   "source": [
    "dis_change.shape"
   ]
  },
  {
   "cell_type": "code",
   "execution_count": null,
   "metadata": {},
   "outputs": [],
   "source": []
  }
 ],
 "metadata": {
  "kernelspec": {
   "display_name": "Python 3",
   "language": "python",
   "name": "python3"
  },
  "language_info": {
   "codemirror_mode": {
    "name": "ipython",
    "version": 3
   },
   "file_extension": ".py",
   "mimetype": "text/x-python",
   "name": "python",
   "nbconvert_exporter": "python",
   "pygments_lexer": "ipython3",
   "version": "3.6.9-final"
  }
 },
 "nbformat": 4,
 "nbformat_minor": 2
}